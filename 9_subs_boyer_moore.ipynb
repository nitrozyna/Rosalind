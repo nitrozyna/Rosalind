{
  "nbformat": 4,
  "nbformat_minor": 0,
  "metadata": {
    "colab": {
      "name": "9_subs_boyer_moore.ipynb",
      "provenance": [],
      "collapsed_sections": [],
      "include_colab_link": true
    },
    "kernelspec": {
      "name": "python3",
      "display_name": "Python 3"
    }
  },
  "cells": [
    {
      "cell_type": "markdown",
      "metadata": {
        "id": "view-in-github",
        "colab_type": "text"
      },
      "source": [
        "<a href=\"https://colab.research.google.com/github/nitrozyna/Rosalind/blob/master/9_subs_boyer_moore.ipynb\" target=\"_parent\"><img src=\"https://colab.research.google.com/assets/colab-badge.svg\" alt=\"Open In Colab\"/></a>"
      ]
    },
    {
      "cell_type": "markdown",
      "metadata": {
        "id": "DwNfoAoz3LLk",
        "colab_type": "text"
      },
      "source": [
        "Problem description:\n",
        "[Finding a Motif in DNA](http://rosalind.info/problems/subs/\n",
        ")"
      ]
    },
    {
      "cell_type": "markdown",
      "metadata": {
        "id": "5P23M-hjs-Bv",
        "colab_type": "text"
      },
      "source": [
        "Given two **strings** s and t, t is a **substring** of s if t is contained as a contiguous collection of symbols in s (as a result, t must be no longer than s).\n",
        "\n",
        "The **position** of a symbol in a string is the total number of symbols found to its left, including itself (e.g., the positions of all occurrences of 'U' in \"AUGCUUCAGAAAGGUCUUACG\" are 2, 5, 6, 15, 17, and 18). The symbol at position i of s is denoted by s[i].\n",
        "\n",
        "A substring of s can be represented as s[j:k], where j and k represent the starting and ending positions of the substring in s; for example, if s = \"AUGCUUCAGAAAGGUCUUACG\", then s[2:5] = \"UGCU\".\n",
        "\n",
        "The **location** of a substring s[j:k] is its beginning **position** j; note that t will have multiple locations in s if it occurs more than once as a substring of s (see the Sample below).\n",
        "---\n",
        "\n",
        "### Given: Two DNA strings s and t (each of length at most 1 kbp)\n",
        "\n",
        "### Return: All locations of t as a substring of s.\n",
        "Sample Dataset\n",
        "\n",
        ">GATATATGCATATACTT\n",
        ">ATAT\n",
        "\n",
        "Sample Output\n",
        "\n",
        ">2 4 10\n",
        "\n"
      ]
    },
    {
      "cell_type": "code",
      "metadata": {
        "id": "4cTZc5uEyZ4R",
        "colab_type": "code",
        "colab": {}
      },
      "source": [
        "#@title Importing some modules to make a connection between Colab and Drive to download the current dataset\n",
        "!pip install PyDrive\n",
        "from pydrive.auth import GoogleAuth\n",
        "from pydrive.drive import GoogleDrive\n",
        "from google.colab import auth\n",
        "from oauth2client.client import GoogleCredentials\n",
        "auth.authenticate_user()\n",
        "gauth = GoogleAuth()\n",
        "gauth.credentials = GoogleCredentials.get_application_default()\n",
        "drive = GoogleDrive(gauth)\n"
      ],
      "execution_count": 0,
      "outputs": []
    },
    {
      "cell_type": "code",
      "metadata": {
        "id": "lYLxokDiy6Qm",
        "colab_type": "code",
        "colab": {}
      },
      "source": [
        "#@title Loading test dataset\n",
        "fileID = \"1OxHe-mqKXE7t5eCZkaxpkngos6nHU85t\" #@param {type:\"string\"}\n",
        "downloaded = drive.CreateFile({'id':fileID})\n",
        "downloaded.GetContentFile('rosalind_subs.txt')  # replace the file name with your file"
      ],
      "execution_count": 0,
      "outputs": []
    },
    {
      "cell_type": "markdown",
      "metadata": {
        "id": "Trp_dvruySce",
        "colab_type": "text"
      },
      "source": [
        "## Boyer-Moore approach\n",
        "To solve this problem more optimally, instead of the naive exact matching approach I used the Boyer-Moore algorithm which is explained in those two videos by Ben Langmead:\n",
        "1. [ADS1: Boyer-Moore basics](https://www.youtube.com/watch?v=4Xyhb72LCX4)\n",
        "2. [ADS1: Boyer-Moore: putting it all together](https://www.youtube.com/watch?v=Wj606N0IAsw)\n",
        "\n",
        "# Bad character rule\n",
        "Upon mistmatch, skip alignments until:\n",
        "\n",
        " **either** mismatch becomes a match **or** the pattern moves past mismatched character"
      ]
    },
    {
      "cell_type": "code",
      "metadata": {
        "id": "A2F32ya_1Jsr",
        "colab_type": "code",
        "colab": {}
      },
      "source": [
        "#@title Implementation of the bad character rule\n",
        "\n",
        "def badCharacterRule(pattern,size):\n",
        "\n",
        "\n",
        "\n",
        "text = \"GCTAGCTC\"\n",
        "pattern = \"TCAA\""
      ],
      "execution_count": 0,
      "outputs": []
    },
    {
      "cell_type": "code",
      "metadata": {
        "id": "9AT5U1oI2Np-",
        "colab_type": "code",
        "colab": {}
      },
      "source": [
        "def boyerMoore(patern,t):\n",
        "    i = []\n",
        "    occurences = []\n",
        "    while i < len(t) - len(p) + 1:\n",
        "        shift = 1\n",
        "        mismatched = False\n",
        "        for i in range(len(p)-1,-1,-1):\n",
        "            if not p[j] == t[i+j]:\n",
        "                badCharacterRule\n",
        "                goodSuffixRule\n",
        "        if not mismatched:\n",
        "            occurences.append(i):\n",
        "        i += shift\n",
        "    return occurences"
      ],
      "execution_count": 0,
      "outputs": []
    },
    {
      "cell_type": "code",
      "metadata": {
        "id": "pDpv_IWnuadi",
        "colab_type": "code",
        "colab": {}
      },
      "source": [
        "#@title Function to find locations of one DNA motif in another\n",
        "def findDnaMotifs(dna,motif):\n",
        "    indices = []\n",
        "    for idx,base in enumerate(dna):\n",
        "        if idx > len(dna) - len(motif):\n",
        "            break\n",
        "        if base == motif[0]:\n",
        "            copy = idx\n",
        "            for n,m in enumerate(motif):\n",
        "                dna_base = dna[copy]\n",
        "                if m == dna_base:\n",
        "                    copy += 1\n",
        "                    if n == (len(motif)-1):\n",
        "                        indices.append(idx+1)                 \n",
        "                else:\n",
        "                    break          \n",
        "    return indices\n",
        "    "
      ],
      "execution_count": 0,
      "outputs": []
    },
    {
      "cell_type": "code",
      "metadata": {
        "id": "CMCB_W77zaht",
        "colab_type": "code",
        "outputId": "fcd7cd1d-3317-4897-f10f-eab71c526d8e",
        "colab": {
          "base_uri": "https://localhost:8080/",
          "height": 34
        }
      },
      "source": [
        "#@title Returning all locations of one DNA motif in another\n",
        "with open('rosalind_subs.txt','r') as f:\n",
        "    dna_strands = []\n",
        "    for line in f:\n",
        "        dna_strands.append(line.strip().split())\n",
        "    all_motifs = findDnaMotifs(dna_strands[0][0],dna_strands[1][0])\n",
        "    \n",
        "pretty_print = \"\"\n",
        "for motif in all_motifs:\n",
        "    pretty_print += str(motif)\n",
        "    pretty_print += \" \"\n",
        "print(pretty_print)"
      ],
      "execution_count": 9,
      "outputs": [
        {
          "output_type": "stream",
          "text": [
            "24 54 61 68 75 132 154 182 222 229 275 282 310 360 367 374 381 388 418 435 442 453 464 471 478 485 501 529 544 551 558 576 596 691 735 742 776 866 \n"
          ],
          "name": "stdout"
        }
      ]
    }
  ]
}