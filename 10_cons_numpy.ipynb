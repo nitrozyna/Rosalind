{
  "nbformat": 4,
  "nbformat_minor": 0,
  "metadata": {
    "colab": {
      "name": "10_cons_numpy.ipynb",
      "provenance": [],
      "collapsed_sections": [],
      "include_colab_link": true
    },
    "kernelspec": {
      "name": "python3",
      "display_name": "Python 3"
    }
  },
  "cells": [
    {
      "cell_type": "markdown",
      "metadata": {
        "id": "view-in-github",
        "colab_type": "text"
      },
      "source": [
        "<a href=\"https://colab.research.google.com/github/nitrozyna/Rosalind/blob/master/10_cons_numpy.ipynb\" target=\"_parent\"><img src=\"https://colab.research.google.com/assets/colab-badge.svg\" alt=\"Open In Colab\"/></a>"
      ]
    },
    {
      "cell_type": "markdown",
      "metadata": {
        "id": "DwNfoAoz3LLk",
        "colab_type": "text"
      },
      "source": [
        "Problem description:\n",
        "[Consensus and Profile](http://rosalind.info/problems/cons/\n",
        ")"
      ]
    },
    {
      "cell_type": "markdown",
      "metadata": {
        "id": "5P23M-hjs-Bv",
        "colab_type": "text"
      },
      "source": [
        "A **matrix** is a rectangular table of values divided into rows and columns. An m×n matrix has m rows and n columns. Given a matrix A, we write Ai,j to indicate the value found at the intersection of row i and column j.\n",
        "\n",
        "Say that we have a collection of **DNA strings**, all having the same length n. Their **profile matri**x is a 4×n **matrix** P in which P1,j represents the number of times that 'A' occurs in the jth **position** of one of the strings, P2,j represents the number of times that C occurs in the jth position, and so on (see below).\n",
        "\n",
        "A **consensus string** c is a string of length n formed from our collection by taking the most common symbol at each position; the jth symbol of c therefore corresponds to the symbol having the maximum value in the j-th column of the profile matrix. Of course, there may be more than one most common symbol, leading to multiple possible consensus strings.\n",
        "\n",
        "                            A T C C A G C T\n",
        "                            G G G C A A C T\n",
        "                            A T G G A T C T\n",
        "            DNA Strings     A A G C A A C C\n",
        "                            T T G G A A C T\n",
        "                            A T G C C A T T\n",
        "                            A T G G C A C T\n",
        "\n",
        "                        A   5 1 0 0 5 5 0 0\n",
        "           Profile\t  C   0 0 1 4 2 0 6 1\n",
        "                        G   1 1 6 3 0 1 0 0\n",
        "                        T   1 5 0 0 0 1 1 6\n",
        "\n",
        "           Consensus\t    A T G C A A C T\n",
        "\n",
        "---\n",
        "\n",
        "### Given: A collection of at most 10 DNA strings of equal length (at most 1 kbp) in FASTA format.\n",
        "\n",
        "### Return:  A consensus string and profile matrix for the collection. (If several possible consensus strings exist, then you may return any one of them.)\n",
        "\n",
        "Sample Dataset\n",
        ">Rosalind_1\n",
        "ATCCAGCT\n",
        ">Rosalind_2\n",
        "GGGCAACT\n",
        ">Rosalind_3\n",
        "ATGGATCT\n",
        ">Rosalind_4\n",
        "AAGCAACC\n",
        ">Rosalind_5\n",
        "TTGGAACT\n",
        ">Rosalind_6\n",
        "ATGCCATT\n",
        ">Rosalind_7\n",
        "ATGGCACT\n",
        "\n",
        "Sample Output\n",
        "\n",
        "ATGCAACT\n",
        "A: 5 1 0 0 5 5 0 0\n",
        "C: 0 0 1 4 2 0 6 1\n",
        "G: 1 1 6 3 0 1 0 0\n",
        "T: 1 5 0 0 0 1 1 6\n",
        "\n"
      ]
    },
    {
      "cell_type": "code",
      "metadata": {
        "id": "4cTZc5uEyZ4R",
        "colab_type": "code",
        "colab": {}
      },
      "source": [
        "#@title Importing some modules to make a connection between Colab and Drive to download the current dataset\n",
        "!pip install PyDrive\n",
        "from pydrive.auth import GoogleAuth\n",
        "from pydrive.drive import GoogleDrive\n",
        "from google.colab import auth\n",
        "from oauth2client.client import GoogleCredentials\n",
        "auth.authenticate_user()\n",
        "gauth = GoogleAuth()\n",
        "gauth.credentials = GoogleCredentials.get_application_default()\n",
        "drive = GoogleDrive(gauth)\n"
      ],
      "execution_count": 0,
      "outputs": []
    },
    {
      "cell_type": "code",
      "metadata": {
        "id": "lYLxokDiy6Qm",
        "colab_type": "code",
        "colab": {}
      },
      "source": [
        "\n",
        "#@title Loading test dataset\n",
        "fileID = \"13Y9MgQNC2WhbFqoCOgkiIQDfOiI2I_mp\" #@param {type:\"string\"}\n",
        "downloaded = drive.CreateFile({'id':fileID})\n",
        "downloaded.GetContentFile('rosalind_cons.txt')  # replace the file name with your file"
      ],
      "execution_count": 0,
      "outputs": []
    },
    {
      "cell_type": "code",
      "metadata": {
        "id": "CMCB_W77zaht",
        "colab_type": "code",
        "colab": {}
      },
      "source": [
        "#@title Reading the file to get all reads\n",
        "with open('rosalind_cons.txt','r') as f:\n",
        "    dna = \"\"\n",
        "    all_reads = []\n",
        "    for read in f:\n",
        "        read = read.strip()\n",
        "        if read.startswith(\">\"):\n",
        "            all_reads.append(dna)\n",
        "            dna = \"\"\n",
        "        else:\n",
        "            dna += read\n",
        "    all_reads.append(dna)\n",
        "read_len = len(all_reads[1])        "
      ],
      "execution_count": 0,
      "outputs": []
    },
    {
      "cell_type": "code",
      "metadata": {
        "id": "2aMEn8RI9uRQ",
        "colab_type": "code",
        "colab": {}
      },
      "source": [
        "#@title Function for creating a profile matrix\n",
        "import numpy\n",
        "read_len = len(all_reads[1])\n",
        "zero_matrix = numpy.zeros(shape=(1,read_len))\n",
        "def getMatrix(base,reads,matrix):\n",
        "    for read in reads:\n",
        "        for idx,b in enumerate(read):\n",
        "            if b == base:\n",
        "                matrix[0][idx] = matrix[0][idx] + 1 \n",
        "    return matrix"
      ],
      "execution_count": 0,
      "outputs": []
    },
    {
      "cell_type": "code",
      "metadata": {
        "id": "eG-ieIxxviUZ",
        "colab_type": "code",
        "colab": {}
      },
      "source": [
        "#@title Getting the profile matrices for each base\n",
        "a = (getMatrix('A',all_reads[1:],numpy.zeros(shape=(1,read_len))))\n",
        "c = (getMatrix('C',all_reads[1:],numpy.zeros(shape=(1,read_len))))\n",
        "g = (getMatrix('G',all_reads[1:],numpy.zeros(shape=(1,read_len))))\n",
        "t = (getMatrix('T',all_reads[1:],numpy.zeros(shape=(1,read_len))))"
      ],
      "execution_count": 0,
      "outputs": []
    },
    {
      "cell_type": "code",
      "metadata": {
        "id": "hgRnOE8ZhzGD",
        "colab_type": "code",
        "colab": {}
      },
      "source": [
        "#@titile Getting the consensus string\n",
        "cs_max = np.maximum.reduce([a,c,g,t])\n",
        "cons = \"\"\n",
        "for idx,b in enumerate(cs_max[0]):\n",
        "    #print(idx)\n",
        "    if (b == a[0][idx]):\n",
        "        cons += 'A'\n",
        "    elif (b == c[0][idx]):\n",
        "        cons += 'C'\n",
        "    elif (b == g[0][idx]):\n",
        "        cons += 'G'\n",
        "    elif (b == t[0][idx]):\n",
        "        cons += 'T'"
      ],
      "execution_count": 0,
      "outputs": []
    },
    {
      "cell_type": "code",
      "metadata": {
        "id": "icxCUZHJu5e_",
        "colab_type": "code",
        "colab": {
          "base_uri": "https://localhost:8080/",
          "height": 122
        },
        "outputId": "11b8892e-f3d7-4b6a-b44d-5468a420f50f"
      },
      "source": [
        "#@title Pretty printing the matrices and the consensus string\n",
        "print(cons)\n",
        "print('A:', ' '.join(map(str, map(int, a[0]))))\n",
        "print('C:', ' '.join(map(str, map(int, c[0]))))\n",
        "print('G:', ' '.join(map(str, map(int, g[0]))))\n",
        "print('T:', ' '.join(map(str, map(int, t[0]))))"
      ],
      "execution_count": 85,
      "outputs": [
        {
          "output_type": "stream",
          "text": [
            "CTTTGAATAACAGGTAAAACCACCAGACCTCTTCTTGAGAAACGCTTCGATCACCAAACATCCAACCGGGGATTGAGATTAAGAGCCTGTCAAACACGCAAATCACCTACAACTAGAGCCAACCCCTGGGCCCTTTCCCCAAGAGGTACTCAGAACAGCAACGATGGTACTCCATAGTACAAACTCGACGCAGACGAGAATAACAAAGTGTTTGAGAATCTATTCTCGTCAAAACACACATTGTCCACCCAAGCCTGAACAAAATAATTCATTTAGGCAACTACGTGCAGGACCGTGAGAAACCGATGACCCGGTATATCTGGAGCTACAACTGGGGTAACGAAACCTCATTGCGTAAATCCCTTAGCACAAAAAACCGTCTTCTAGGTACGCAGACCAAACAGTGCGCACTAATTTCGACACCCGTGGGGTGAAACGCTGATTAGCATATTAAAACTTGAACCTTAGACAATTACGATATCCGTATTTCTCGACCGGTGCCGAGGGAACTAAAAACTCCTGGGGCAGCTAGACAGAAAAAAGAGAGCGATAGAAAAACAACAGCGGACCCTCGATATAAAACAGGGTCAGAACGGTGACCTGCCCAAACCCAGAAAGTAGGGACCACAGTAGAACACCTCGAGTGAAATTGACAACAGGCCTCCTAGATAGAATGACTGATGTCAACCGCAAAGATGCCCTGAATTTCTAGCTACACGGCGCGTCTTTTGGATGCTTTCGCAACAAGTTAAGCGACCTAAAACTCATCATCAGACATTTACGGGGGCCTACCGCACACGCTCGCCATGCATAACTAACCAGCCCTCCTAGTAGAGAAACCCACGATGCTAAGACAGAGGTCGCCAAGCCGTAAACTACGTAGACTGGACAGGAAACTCCTGGTGTTGGTCAACGTACACCCCACAAGTGAGTAGAACACATGAAGCACCTATC\n",
            "A: 0 1 1 2 2 6 4 1 4 3 2 5 2 1 3 4 4 4 4 2 1 3 1 2 3 2 6 1 3 3 2 0 1 1 1 1 3 4 2 4 3 3 2 3 2 0 2 2 3 5 0 2 3 1 0 3 4 3 3 4 2 1 1 4 7 2 3 2 3 3 2 4 1 2 2 4 3 4 3 2 4 4 2 4 2 0 2 2 2 2 2 4 5 4 1 5 2 0 2 3 4 4 1 1 4 2 2 3 5 1 5 4 2 1 4 0 5 0 3 2 4 4 1 1 2 1 1 2 0 2 2 1 2 1 2 2 2 1 2 2 5 4 2 3 4 2 0 3 2 2 0 4 3 4 3 1 5 1 3 5 3 2 3 7 2 2 2 2 4 3 2 2 1 4 2 4 0 1 4 2 3 4 5 2 3 1 1 5 1 3 2 4 2 3 1 1 5 3 5 3 2 5 3 3 3 3 3 3 1 2 1 1 1 2 4 3 4 4 0 3 3 4 2 2 2 2 3 2 1 2 4 4 3 4 3 3 3 3 3 4 2 0 2 2 2 1 5 2 3 2 3 3 2 2 1 1 1 4 4 0 4 4 6 4 1 4 4 0 1 2 3 2 2 2 6 2 3 3 4 3 2 3 4 2 2 1 2 1 4 3 1 4 1 2 3 2 1 5 2 4 5 3 3 1 1 3 2 2 3 1 2 1 0 2 2 4 1 4 2 2 2 1 2 4 0 1 2 3 1 4 4 3 2 3 2 3 3 4 4 3 1 3 4 4 3 0 2 2 3 4 3 1 2 0 1 2 3 4 3 3 1 2 2 3 2 6 2 1 4 2 5 4 4 3 4 4 3 1 3 2 2 3 1 1 2 4 2 2 3 3 2 2 2 4 2 4 3 3 3 4 4 1 3 2 1 3 2 3 2 4 2 3 4 4 4 0 3 3 2 3 1 3 1 3 3 3 4 1 1 2 2 2 2 3 4 4 2 1 0 2 2 4 2 1 3 2 0 3 1 3 0 3 3 3 3 4 2 4 1 2 3 4 1 1 2 4 3 1 4 1 4 3 2 3 4 3 1 4 2 4 1 2 1 1 2 4 1 1 1 3 3 2 2 3 1 0 2 1 1 0 2 2 2 3 2 1 0 4 7 1 3 3 3 3 5 4 2 2 2 3 2 2 3 2 2 3 3 2 2 3 4 3 4 1 3 2 6 3 4 5 5 4 2 4 1 5 3 0 2 5 2 3 0 3 6 6 3 3 1 4 4 2 4 0 0 2 2 4 2 1 3 2 1 0 3 2 3 2 4 5 3 4 3 4 3 2 2 2 1 3 1 6 5 4 3 2 2 1 4 0 0 3 2 0 2 2 4 4 3 2 1 2 4 2 3 3 3 1 0 3 2 2 2 3 3 2 4 3 4 2 3 6 3 4 4 1 3 1 2 2 2 3 6 3 1 3 4 4 5 3 2 2 6 2 3 3 3 3 2 1 2 2 0 3 2 2 3 0 5 1 5 2 5 4 1 2 5 3 2 2 3 1 1 2 2 5 4 3 0 2 1 5 3 4 2 4 3 1 2 3 1 2 2 4 5 3 1 1 2 1 5 2 1 0 3 1 5 1 3 2 2 2 3 2 1 0 2 3 1 1 2 1 3 2 3 2 3 1 2 1 2 3 5 6 1 4 4 0 1 2 4 3 2 2 2 4 3 2 2 4 4 4 7 1 2 0 4 2 2 3 2 1 4 3 3 2 5 0 3 1 6 3 2 2 1 2 2 2 2 3 6 1 3 2 1 4 3 5 2 2 2 2 1 2 2 2 5 2 2 2 3 3 4 4 1 0 3 3 2 3 5 2 2 1 3 1 2 2 4 5 2 1 5 1 4 2 4 4 3 0 1 1 3 2 3 5 2 1 3 2 3 4 3 5 2 4 1 4 3 2 1 0 3 0 1 3 4 3 1 2 3 1 4 5 4 2 2 5 2 0 0 4 3 6 2 2 2 3 5 1 3 2 2 6 4 3 2 2 1 1 2 3 3 2 1 2 1 2 1 1 2 4 5 2 0 0 4 2 3 2 2 1 2 4 3 4 4 3 2 1 4 1 3 4 2 4 3 1 4 2 4 1 1 3 4 3 2 3 1 0 1 3 1 2\n",
            "C: 4 1 2 1 1 0 2 2 2 2 4 2 2 1 2 4 2 2 2 4 4 2 4 3 3 1 1 3 4 2 4 2 3 5 2 0 1 2 3 2 3 2 3 2 4 3 0 4 1 0 3 4 3 4 4 2 4 1 4 2 2 5 5 1 2 4 5 2 1 1 1 3 3 3 2 2 2 2 2 2 2 3 3 2 2 5 3 2 1 2 3 4 0 3 4 1 4 3 4 2 3 3 2 4 0 5 4 1 2 6 2 1 4 2 2 2 3 3 4 3 3 2 4 6 6 5 1 1 3 2 4 3 4 3 1 2 4 4 5 3 0 2 1 3 1 2 2 2 3 1 5 3 1 0 1 5 2 3 5 1 2 3 1 0 2 2 2 0 2 6 3 6 3 2 1 1 2 0 3 4 3 3 2 5 0 4 2 1 3 2 4 3 2 2 3 3 3 2 2 3 1 1 3 6 3 3 2 0 2 1 3 3 3 2 2 1 2 1 3 4 1 2 0 2 4 2 4 2 3 4 1 2 2 2 4 2 5 2 5 2 2 1 2 1 5 3 2 5 4 3 2 3 2 4 4 3 2 3 2 4 3 2 0 3 3 0 2 3 4 3 2 1 2 1 1 2 1 5 3 1 3 0 1 3 2 3 2 5 2 1 3 3 6 5 1 1 2 2 2 2 1 1 4 4 1 3 3 2 1 3 4 7 3 3 3 3 2 3 1 4 2 1 1 1 1 5 2 3 4 2 2 4 2 2 2 2 0 1 2 3 5 1 1 1 3 5 3 1 4 1 0 2 0 4 2 2 3 3 3 2 3 4 3 0 3 2 1 3 2 4 2 3 2 3 3 4 4 5 2 3 5 0 3 3 2 3 2 2 2 2 5 2 4 0 3 1 4 5 2 1 4 5 2 2 3 1 4 1 3 2 4 0 1 1 0 3 1 4 3 2 4 1 5 4 5 3 0 2 3 1 2 1 2 2 2 1 3 1 4 1 0 2 2 3 2 0 5 3 2 3 3 0 2 2 1 2 3 0 0 2 2 0 3 4 3 0 1 3 2 6 2 2 1 2 2 4 1 4 1 2 2 3 3 3 2 2 3 1 3 4 2 5 2 3 3 4 1 2 4 2 5 4 2 3 2 2 3 2 2 4 1 2 3 2 4 2 3 2 3 4 1 2 2 2 1 5 3 3 4 2 1 1 2 6 3 3 1 2 2 2 1 3 2 0 3 3 2 4 2 1 1 2 2 3 2 2 2 3 4 4 4 4 1 3 8 3 2 3 3 4 5 2 3 2 2 3 3 2 2 1 2 3 4 2 1 2 2 2 5 3 2 2 0 5 0 0 2 2 2 4 4 1 1 5 3 4 3 2 1 3 5 3 3 0 3 3 2 2 4 2 2 3 3 2 4 4 3 4 2 1 2 2 1 2 0 4 3 5 4 1 4 1 0 2 2 1 0 0 1 1 0 3 0 5 1 3 4 3 3 3 3 5 3 4 4 1 1 2 0 3 0 2 2 2 2 1 3 5 1 3 3 2 3 3 5 1 1 5 4 2 4 1 2 2 2 2 0 2 3 4 7 1 2 3 1 0 3 2 5 3 1 2 4 2 1 3 0 4 0 2 3 2 4 0 1 4 3 1 3 4 2 1 3 3 2 3 3 3 3 4 2 4 4 1 8 0 3 1 1 1 2 3 2 3 2 0 4 3 1 4 3 2 1 4 2 4 3 0 3 3 2 4 2 3 2 3 3 3 2 4 2 4 1 3 3 2 3 3 3 3 2 5 4 2 4 3 5 1 3 1 4 3 7 2 6 5 2 3 1 3 1 0 4 0 3 4 2 3 3 4 1 3 4 6 4 1 3 4 1 3 2 2 2 3 1 1 1 1 3 5 4 7 2 3 1 4 1 3 4 2 3 3 3 3 3 3 2 0 2 0 2 5 1 4 4 3 2 0 4 4 0 3 4 0 4 3 3 1 4 1 4 3 1 0 3 2 2 1 3 3 2 2 2 0 2 3 5 1 4 4 2 1 1 3 2 3 0 2 0 2 4 2 2 4 2 2 3 3 3 3 3 5 4 3 4 2 3 2 1 3 1 2 1 2 2 3 3 5 1 4 3 4 3 3 2 0 5 2 4 4 2 2 1 3\n",
            "G: 3 2 2 3 4 1 1 3 2 2 2 2 4 5 1 2 1 4 2 2 2 2 3 2 3 5 1 3 2 1 2 2 2 2 2 3 4 3 4 3 3 2 3 4 3 3 2 1 4 4 3 2 3 2 4 3 0 3 1 1 2 2 4 3 1 1 0 3 4 5 4 3 2 1 6 2 4 3 1 1 3 2 4 1 4 3 3 2 5 1 3 1 3 2 2 3 2 4 0 2 3 3 2 3 2 2 2 1 0 1 2 4 4 3 3 5 0 7 1 2 2 1 1 1 1 2 2 4 4 3 2 3 2 2 3 2 1 2 1 3 2 2 5 2 5 4 3 3 3 1 5 1 4 4 3 3 1 5 0 4 3 3 5 3 1 3 3 3 2 0 1 0 3 3 2 4 4 4 1 3 2 2 2 0 3 2 5 1 3 5 2 2 3 3 3 4 1 4 1 2 3 0 2 1 1 2 3 5 1 4 2 1 2 5 1 4 2 2 2 2 2 4 3 2 2 2 2 3 2 1 1 2 3 2 1 3 1 2 2 3 2 4 4 3 1 3 2 2 3 2 3 2 3 1 1 1 5 2 2 3 0 3 1 2 2 4 2 1 0 2 3 1 2 1 0 4 4 1 0 3 2 3 4 3 4 1 5 2 1 6 4 2 1 1 4 2 4 3 4 0 1 3 2 3 5 3 1 4 3 3 3 0 4 5 1 2 2 2 2 3 1 5 5 3 6 2 2 3 3 0 2 2 1 4 5 5 4 0 3 2 3 4 3 3 2 4 2 1 1 3 1 2 4 4 4 2 2 3 2 1 3 3 3 3 1 1 4 3 1 1 1 0 1 2 0 0 2 2 5 1 0 1 2 3 2 2 3 3 1 2 2 3 2 2 4 4 1 1 3 2 2 1 2 3 2 5 1 5 3 4 0 3 2 1 1 3 1 2 4 3 3 3 4 2 2 4 1 5 4 5 5 3 3 2 3 2 2 4 3 3 4 3 2 1 3 6 2 1 2 2 1 2 3 3 3 2 3 1 3 3 2 4 3 3 1 1 3 4 2 1 1 3 2 0 0 1 4 0 3 2 3 2 3 4 2 2 0 2 2 0 1 1 4 2 3 4 5 5 0 5 2 2 4 1 4 4 6 1 0 2 2 3 2 2 1 4 3 2 2 1 1 5 4 4 5 0 3 4 3 1 2 4 2 1 3 4 2 3 2 1 2 2 3 3 4 0 4 2 3 2 2 3 4 1 0 2 2 3 1 1 1 1 4 5 2 4 3 1 3 1 0 2 3 4 3 1 1 2 3 3 3 2 1 2 4 3 5 2 4 1 5 1 2 0 5 4 2 4 3 3 2 2 4 3 2 3 2 2 3 2 2 2 2 6 1 3 3 4 1 3 3 4 4 3 3 3 2 2 2 4 1 2 4 2 3 3 1 2 0 3 3 5 1 4 1 4 2 2 1 2 2 5 2 1 3 1 1 3 4 4 3 1 2 2 3 2 3 5 4 2 2 5 0 3 3 4 0 1 3 4 2 2 5 1 2 2 1 1 3 3 1 1 2 2 5 4 0 7 2 1 2 3 3 3 1 3 0 1 1 1 2 4 3 3 3 3 2 3 4 4 2 4 1 6 1 3 0 1 1 0 3 6 1 0 4 2 0 0 1 1 3 2 1 2 1 2 0 6 1 3 2 3 3 2 4 3 2 3 2 1 0 2 1 1 1 4 1 3 2 2 2 2 2 4 3 2 0 3 0 0 1 2 5 4 5 3 4 2 3 0 0 1 1 3 2 1 1 1 3 6 4 1 1 3 1 1 1 1 6 3 3 2 2 4 3 1 2 1 3 1 1 4 3 2 2 2 2 2 0 1 5 2 2 4 2 5 2 4 2 2 3 1 3 2 4 0 3 4 1 2 2 3 4 1 2 1 5 4 4 5 2 2 4 2 4 2 2 4 3 3 4 2 0 2 1 2 1 2 2 5 1 3 5 2 3 2 4 4 1 3 3 4 3 2 2 3 2 0 3 2 2 4 4 1 4 1 4 4 5 3 1 2 2 2 5 2 2 3 2 2 3 2 1 2 1 3 1 4 2 5 3 4 2 3 5 1 3 3 3 2 1 0 4 3 2 5 1 2 3 4 3 3 1 2\n",
            "T: 3 6 5 4 3 3 3 4 2 3 2 1 2 3 4 0 3 0 2 2 3 3 2 3 1 2 2 3 1 4 2 6 4 2 5 6 2 1 1 1 1 3 2 1 1 4 6 3 2 1 4 2 1 3 2 2 2 3 2 3 4 2 0 2 0 3 2 3 2 1 3 0 4 4 0 2 1 1 4 5 1 1 1 3 2 2 2 4 2 5 2 1 2 1 3 1 2 3 4 3 0 0 5 2 4 1 2 5 3 2 1 1 0 4 1 3 2 0 2 3 1 3 4 2 1 2 6 3 3 3 2 3 2 4 4 4 3 3 2 2 3 2 2 2 0 2 5 2 2 6 0 2 2 2 3 1 2 1 2 0 2 2 1 0 5 3 3 5 2 1 4 2 3 1 5 1 4 5 2 1 2 1 1 3 4 3 2 3 3 0 2 1 3 2 3 2 1 1 2 2 4 4 2 0 3 2 2 2 6 3 4 5 4 1 3 2 2 3 5 1 4 0 5 4 2 4 1 3 4 3 4 2 2 2 2 2 1 3 0 1 4 5 2 4 2 3 1 1 0 3 2 2 3 3 4 5 2 1 2 3 3 1 3 1 4 2 2 6 5 3 2 6 4 6 3 2 2 1 3 3 3 4 1 2 2 5 1 2 3 0 2 1 2 2 2 5 3 0 2 4 3 3 1 2 3 1 4 2 3 3 1 2 3 0 4 1 5 1 5 1 5 3 2 2 3 2 4 1 2 4 2 1 5 1 1 0 3 5 1 2 1 2 2 2 2 1 3 6 2 2 6 5 4 2 3 4 2 0 2 4 3 1 2 4 4 1 3 3 3 3 2 3 3 2 3 2 1 2 0 4 3 6 4 3 4 1 3 3 4 3 1 3 2 4 1 1 2 1 2 3 0 3 3 3 4 1 3 1 2 0 4 4 3 4 5 4 5 1 1 2 2 3 0 1 0 0 5 2 2 2 1 4 3 3 1 3 3 4 3 4 4 1 4 5 2 2 3 3 5 2 6 5 2 2 3 2 2 5 6 3 3 2 3 2 4 5 3 2 2 2 3 2 5 5 4 2 4 2 4 2 4 3 3 2 4 2 6 6 4 3 4 2 2 2 3 2 2 2 5 3 1 2 2 3 2 3 1 3 1 3 4 2 2 3 0 0 2 4 3 2 6 1 1 2 2 2 1 1 1 4 3 2 2 2 1 1 1 2 2 2 2 1 3 3 2 2 1 4 3 2 5 2 4 3 2 0 3 1 4 1 1 3 1 2 0 1 3 2 2 4 2 4 3 4 2 4 3 4 1 1 2 1 2 2 2 3 1 4 0 3 2 1 3 1 2 4 4 3 1 3 4 4 3 2 3 1 1 2 3 3 2 3 1 2 3 1 2 3 5 2 3 1 1 2 0 1 1 1 2 3 4 0 2 2 3 2 3 2 4 4 1 1 3 1 6 2 4 4 3 4 6 0 2 2 3 3 2 1 1 2 2 2 5 1 1 5 3 3 1 4 3 1 3 1 4 3 2 1 4 1 2 5 1 4 1 2 4 1 3 3 4 3 3 2 1 0 7 0 3 2 0 4 3 0 3 4 6 6 2 5 2 2 2 5 3 3 3 2 3 2 3 2 2 2 7 3 5 5 5 5 3 2 3 5 1 3 4 6 4 4 3 1 0 1 0 4 3 3 7 4 2 1 3 3 2 3 1 2 5 1 3 2 1 4 5 2 2 5 3 2 4 3 2 0 2 3 2 4 5 5 1 1 2 1 1 3 1 3 2 4 2 3 2 3 3 2 1 3 2 1 0 4 1 3 1 2 2 4 1 2 3 5 0 2 3 5 3 3 2 2 3 1 1 1 1 6 3 2 5 1 1 5 1 2 3 2 3 1 2 3 2 1 2 3 2 1 4 2 2 4 2 0 0 1 3 2 2 2 1 3 5 3 2 4 1 2 2 3 2 1 3 4 2 3 1 3 4 2 2 4 5 0 1 2 2 4 2 2 1 3 2 2 3 2 2 1 1 7 2 3 4 2 2 4 3 4 5 2 4 4 3 2 1 2 3 6 1 2 2 3 2 2 3 1 2 1 2 1 5 1 2 3 4 1 1 2 1 1 2 2 2 5 2 1 2 2 2 3 2 2 4 2 7 3\n"
          ],
          "name": "stdout"
        }
      ]
    }
  ]
}