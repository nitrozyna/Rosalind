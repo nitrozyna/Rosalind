{
  "nbformat": 4,
  "nbformat_minor": 0,
  "metadata": {
    "colab": {
      "name": "5_fib.ipynb",
      "provenance": [],
      "collapsed_sections": [],
      "include_colab_link": true
    },
    "kernelspec": {
      "name": "python3",
      "display_name": "Python 3"
    }
  },
  "cells": [
    {
      "cell_type": "markdown",
      "metadata": {
        "id": "view-in-github",
        "colab_type": "text"
      },
      "source": [
        "<a href=\"https://colab.research.google.com/github/nitrozyna/Rosalind/blob/master/5_fib.ipynb\" target=\"_parent\"><img src=\"https://colab.research.google.com/assets/colab-badge.svg\" alt=\"Open In Colab\"/></a>"
      ]
    },
    {
      "cell_type": "markdown",
      "metadata": {
        "id": "DwNfoAoz3LLk",
        "colab_type": "text"
      },
      "source": [
        "Problem description:\n",
        "[Wascally Wabbits](http://rosalind.info/problems/fib/\n",
        ")"
      ]
    },
    {
      "cell_type": "markdown",
      "metadata": {
        "id": "5P23M-hjs-Bv",
        "colab_type": "text"
      },
      "source": [
        "A **sequence** is an ordered collection of objects (usually numbers), which are allowed to repeat. Sequences can be finite or infinite. Two examples are the finite sequence (π,−2–√,0,π) and the infinite sequence of odd numbers (1,3,5,7,9,…). \n",
        "\n",
        "A **recurrence** relation is a way of defining the terms of a sequence with respect to the values of previous terms. In the case of Fibonacci's rabbits from the introduction, any given month will contain the rabbits that were alive the previous month, plus any new offspring. A key observation is that the number of offspring in any month is equal to the number of rabbits that were alive two months prior. As a result, if Fn represents the number of rabbit pairs alive after the *n-t*h month, then we obtain the **Fibonacci sequence** having terms Fn that are defined by the recurrence relation Fn=Fn−1+Fn−2 (with F1=F2=1 to initiate the sequence). Although the sequence bears Fibonacci's name, it was known to Indian mathematicians over two millennia ago. \n",
        "\n",
        "When finding the *n-th* term of a sequence defined by a recurrence relation, we can simply use the recurrence relation to generate terms for progressively larger values of n. This problem introduces us to the computational technique of **dynamic programming**, which successively builds up solutions by using the answers to smaller cases.\n",
        "---\n",
        "\n",
        "### Given:  Positive integers n≤40 and k≤5.\n",
        "\n",
        "### Return: The total number of rabbit pairs that will be present after *n* months, if we begin with 1 pair and in each generation, every pair of reproduction-age rabbits produces a litter of *k* rabbit pairs (instead of only 1 pair).\n",
        "\n",
        "\n",
        "\n",
        "Sample Dataset\n",
        "\n",
        ">5 3\n",
        "\n",
        "Sample Output\n",
        "\n",
        ">19"
      ]
    },
    {
      "cell_type": "code",
      "metadata": {
        "id": "4cTZc5uEyZ4R",
        "colab_type": "code",
        "colab": {}
      },
      "source": [
        "#@title Importing some modules to make a connection between Colab and Drive to download the current dataset\n",
        "!pip install PyDrive\n",
        "from pydrive.auth import GoogleAuth\n",
        "from pydrive.drive import GoogleDrive\n",
        "from google.colab import auth\n",
        "from oauth2client.client import GoogleCredentials\n",
        "auth.authenticate_user()\n",
        "gauth = GoogleAuth()\n",
        "gauth.credentials = GoogleCredentials.get_application_default()\n",
        "drive = GoogleDrive(gauth)\n"
      ],
      "execution_count": 0,
      "outputs": []
    },
    {
      "cell_type": "code",
      "metadata": {
        "id": "lYLxokDiy6Qm",
        "colab_type": "code",
        "colab": {}
      },
      "source": [
        "#@title Loading test dataset\n",
        "fileID = \"1qtgWhNO0f2gvuL50_cp8k48_24HHCE-l\" #@param {type:\"string\"}\n",
        "downloaded = drive.CreateFile({'id':fileID})\n",
        "downloaded.GetContentFile('rosalind_fib.txt')  # replace the file name with your file"
      ],
      "execution_count": 0,
      "outputs": []
    },
    {
      "cell_type": "code",
      "metadata": {
        "id": "pDpv_IWnuadi",
        "colab_type": "code",
        "colab": {}
      },
      "source": [
        "#@title Function to calculate the number of rabbit pairs present after n months\n",
        "def fibbits(adults,litter,months,n):\n",
        "    counter = 1\n",
        "    while counter < months:\n",
        "        new_litter = adults*n\n",
        "        adults += litter\n",
        "        litter = new_litter\n",
        "        counter += 1\n",
        "    return adults + litter"
      ],
      "execution_count": 0,
      "outputs": []
    },
    {
      "cell_type": "code",
      "metadata": {
        "id": "CMCB_W77zaht",
        "colab_type": "code",
        "outputId": "d48ac96c-8dce-406b-9cb7-fed91a26ec14",
        "colab": {
          "base_uri": "https://localhost:8080/",
          "height": 34
        }
      },
      "source": [
        "#@title Calculting the The total number of rabbit pairs that will be present after n months\n",
        "dna_string =  open(\"rosalind_fib.txt\",\"r\")\n",
        "with open('rosalind_fib.txt','r') as f:\n",
        "    for line in f:\n",
        "        line = line.split()\n",
        "        rabbits = fibbits(0,1,int(line[0]),int(line[1]))\n",
        "print(rabbits)\n",
        "        \n",
        "    "
      ],
      "execution_count": 35,
      "outputs": [
        {
          "output_type": "stream",
          "text": [
            "47079164257\n"
          ],
          "name": "stdout"
        }
      ]
    }
  ]
}