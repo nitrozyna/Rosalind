{
  "nbformat": 4,
  "nbformat_minor": 0,
  "metadata": {
    "colab": {
      "name": "15_splc.ipynb",
      "provenance": [],
      "collapsed_sections": [],
      "include_colab_link": true
    },
    "kernelspec": {
      "name": "python3",
      "display_name": "Python 3"
    }
  },
  "cells": [
    {
      "cell_type": "markdown",
      "metadata": {
        "id": "view-in-github",
        "colab_type": "text"
      },
      "source": [
        "<a href=\"https://colab.research.google.com/github/nitrozyna/Rosalind/blob/master/15_splc.ipynb\" target=\"_parent\"><img src=\"https://colab.research.google.com/assets/colab-badge.svg\" alt=\"Open In Colab\"/></a>"
      ]
    },
    {
      "cell_type": "markdown",
      "metadata": {
        "id": "DwNfoAoz3LLk",
        "colab_type": "text"
      },
      "source": [
        "Problem description:\n",
        "[RNA Splicing](http://rosalind.info/problems/splc/\n",
        ")"
      ]
    },
    {
      "cell_type": "markdown",
      "metadata": {
        "id": "5P23M-hjs-Bv",
        "colab_type": "text"
      },
      "source": [
        "After identifying the exons and introns of an **RNA string**, we only need to delete the introns and concatenate the exons to form a new string ready for translation.\n",
        "---\n",
        "\n",
        "### Given: A DNA string s (of length at most 1 kbp) and a collection of substrings of s acting as introns. All strings are given in FASTA format.\n",
        "\n",
        "### Return: A protein string resulting from transcribing and translating the exons of s. (Note: Only one solution will exist for the dataset provided.)\n",
        "\n",
        "Sample Dataset\n",
        "\n",
        ">Rosalind_10\n",
        "ATGGTCTACATAGCTGACAAACAGCACGTAGCAATCGGTCGAATCTCGAGAGGCATATGGTCACATGATCGGTCGAGCGTGTTTCAAAGTTTGCGCCTAG\n",
        ">Rosalind_12\n",
        "ATCGGTCGAA\n",
        ">Rosalind_15\n",
        "ATCGGTCGAGCGTGT\n",
        "\n",
        "Sample Output\n",
        ">MVYIADKQHVASREAYGHMFKVCA\n"
      ]
    },
    {
      "cell_type": "code",
      "metadata": {
        "id": "4cTZc5uEyZ4R",
        "colab_type": "code",
        "colab": {}
      },
      "source": [
        "#@title Importing some modules to make a connection between Colab and Drive to download the current dataset\n",
        "!pip install PyDrive\n",
        "from pydrive.auth import GoogleAuth\n",
        "from pydrive.drive import GoogleDrive\n",
        "from google.colab import auth\n",
        "from oauth2client.client import GoogleCredentials\n",
        "auth.authenticate_user()\n",
        "gauth = GoogleAuth()\n",
        "gauth.credentials = GoogleCredentials.get_application_default()\n",
        "drive = GoogleDrive(gauth)\n"
      ],
      "execution_count": 0,
      "outputs": []
    },
    {
      "cell_type": "code",
      "metadata": {
        "id": "lYLxokDiy6Qm",
        "colab_type": "code",
        "cellView": "both",
        "colab": {}
      },
      "source": [
        "#@title Loading test dataset\n",
        "fileID = \"1ddDIJ0zN-dZc9KO5chxUtn0ClHGqL6dX\" #@param {type:\"string\"}\n",
        "downloaded = drive.CreateFile({'id':fileID})\n",
        "downloaded.GetContentFile('rosalind_splc.txt')  # replace the file name with your file"
      ],
      "execution_count": 0,
      "outputs": []
    },
    {
      "cell_type": "code",
      "metadata": {
        "id": "k6gHJnjjvTl-",
        "colab_type": "code",
        "colab": {}
      },
      "source": [
        "#@title Codon table\n",
        "codons = {\n",
        "    \"UUU\": \"F\",\n",
        "    \"CUU\": \"L\",\n",
        "    \"AUU\": \"I\",\n",
        "    \"GUU\": \"V\",\n",
        "    \"UUC\": \"F\",\n",
        "    \"CUC\": \"L\",\n",
        "    \"AUC\": \"I\",\n",
        "    \"GUC\": \"V\",\n",
        "    \"UUA\": \"L\",\n",
        "    \"CUA\": \"L\",\n",
        "    \"AUA\": \"I\",\n",
        "    \"GUA\": \"V\",\n",
        "    \"UUG\": \"L\",\n",
        "    \"CUG\": \"L\",\n",
        "    \"AUG\": \"M\",\n",
        "    \"GUG\": \"V\",\n",
        "    \"UCU\": \"S\",\n",
        "    \"CCU\": \"P\",\n",
        "    \"ACU\": \"T\",\n",
        "    \"GCU\": \"A\",\n",
        "    \"UCC\": \"S\",\n",
        "    \"CCC\": \"P\",\n",
        "    \"ACC\": \"T\",\n",
        "    \"GCC\": \"A\",\n",
        "    \"UCA\": \"S\",\n",
        "    \"CCA\": \"P\",\n",
        "    \"ACA\": \"T\",\n",
        "    \"GCA\": \"A\",\n",
        "    \"UCG\": \"S\",\n",
        "    \"CCG\": \"P\",\n",
        "    \"ACG\": \"T\",\n",
        "    \"GCG\": \"A\",\n",
        "    \"UAU\": \"Y\",\n",
        "    \"CAU\": \"H\",\n",
        "    \"AAU\": \"N\",\n",
        "    \"GAU\": \"D\",\n",
        "    \"UAC\": \"Y\",\n",
        "    \"CAC\": \"H\",\n",
        "    \"AAC\": \"N\",\n",
        "    \"GAC\": \"D\",\n",
        "    \"UAA\": \"*\",\n",
        "    \"CAA\": \"Q\",\n",
        "    \"AAA\": \"K\",\n",
        "    \"GAA\": \"E\",\n",
        "    \"UAG\": \"*\",\n",
        "    \"CAG\": \"Q\",\n",
        "    \"AAG\": \"K\",\n",
        "    \"GAG\": \"E\",\n",
        "    \"UGU\": \"C\",\n",
        "    \"CGU\": \"R\",\n",
        "    \"AGU\": \"S\",\n",
        "    \"GGU\": \"G\",\n",
        "    \"UGC\": \"C\",\n",
        "    \"CGC\": \"R\",\n",
        "    \"AGC\": \"S\",\n",
        "    \"GGC\": \"G\",\n",
        "    \"UGA\": \"*\",\n",
        "    \"CGA\": \"R\",\n",
        "    \"AGA\": \"R\",\n",
        "    \"GGA\": \"G\",\n",
        "    \"UGG\": \"W\",\n",
        "    \"CGG\": \"R\",\n",
        "    \"AGG\": \"R\",\n",
        "    \"GGG\": \"G\"\n",
        "}"
      ],
      "execution_count": 0,
      "outputs": []
    },
    {
      "cell_type": "code",
      "metadata": {
        "id": "pBHDzOBJwIMf",
        "colab_type": "code",
        "colab": {}
      },
      "source": [
        "#@title Function to return a DNA string without a given intron\n",
        "def removeDnaMotifs(dna,motif):\n",
        "    return dna.replace(motif,\"\")"
      ],
      "execution_count": 0,
      "outputs": []
    },
    {
      "cell_type": "code",
      "metadata": {
        "id": "CMCB_W77zaht",
        "colab_type": "code",
        "colab": {}
      },
      "source": [
        "#@title Function for transcribing DNA to RNA\n",
        "def translateDNA(dna):\n",
        "    return dna.replace(\"T\",\"U\")"
      ],
      "execution_count": 0,
      "outputs": []
    },
    {
      "cell_type": "code",
      "metadata": {
        "id": "XnTo3wunDmSJ",
        "colab_type": "code",
        "colab": {}
      },
      "source": [
        "#@title Function for translating RNA into protein\n",
        "def translateRnaToProtein(rna):\n",
        "    counter = 3\n",
        "    code = \"\"\n",
        "    c = 0\n",
        "    protein = \"\"\n",
        "    for i in rna:\n",
        "        code += i\n",
        "        c += 1\n",
        "        if c == counter:\n",
        "            if code in codons:\n",
        "                p = codons[code]\n",
        "                if p == '*':\n",
        "                    break\n",
        "                protein += p\n",
        "            c = 0\n",
        "            code = \"\"\n",
        "    return protein"
      ],
      "execution_count": 0,
      "outputs": []
    },
    {
      "cell_type": "code",
      "metadata": {
        "id": "hVDHICAcDo6g",
        "colab_type": "code",
        "colab": {}
      },
      "source": [
        "#@title Preprocessing, separating motifs and dna into separate list elements\n",
        "\n",
        "with open(\"rosalind_splc.txt\") as f:\n",
        "    motif = \"\"\n",
        "    all_motifs = []\n",
        "    for line in f:\n",
        "        if line.strip().startswith(\">\"):\n",
        "            all_motifs.append(motif)\n",
        "            motif = \"\"\n",
        "        else:\n",
        "            motif += line.strip()\n",
        "    all_motifs.append(motif)        "
      ],
      "execution_count": 0,
      "outputs": []
    },
    {
      "cell_type": "code",
      "metadata": {
        "id": "qe3PGQFtDvL5",
        "colab_type": "code",
        "colab": {
          "base_uri": "https://localhost:8080/",
          "height": 54
        },
        "outputId": "b8e6acab-529b-40cc-83be-faea0ec02a14"
      },
      "source": [
        "# Removing DNA motifs, transcribing the DNA into RNA and translating the RNA into protein\n",
        "dna = all_motifs[1]\n",
        "for motif in all_motifs[2:]:\n",
        "    dna = removeDnaMotifs(dna,motif)\n",
        "rna = translateDNA(dna)\n",
        "print(translateRnaToProtein(rna))"
      ],
      "execution_count": 18,
      "outputs": [
        {
          "output_type": "stream",
          "text": [
            "MIKVRIGWSDEFPCWKHDGIGAFPSFAFLVPYWEVELHTHMVRVGVRLNRLVRICMVDKVASPRVGPDYFAYPCSDHPSRPKVALHGDGLNHGNASTRAYALLTMRPDLIAQSAVHERYTSIPGFTSHSRDPTSGGYPAWTDPQSCYIEGVSSRPSNLTRTQNYGLSIEKPIRVGVAFVQADRTCETECPVLFPIRGGVPMGRQG\n"
          ],
          "name": "stdout"
        }
      ]
    }
  ]
}