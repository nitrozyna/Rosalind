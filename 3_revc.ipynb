{
  "nbformat": 4,
  "nbformat_minor": 0,
  "metadata": {
    "colab": {
      "name": "3_revc.ipynb",
      "provenance": [],
      "collapsed_sections": [],
      "include_colab_link": true
    },
    "kernelspec": {
      "name": "python3",
      "display_name": "Python 3"
    }
  },
  "cells": [
    {
      "cell_type": "markdown",
      "metadata": {
        "id": "view-in-github",
        "colab_type": "text"
      },
      "source": [
        "<a href=\"https://colab.research.google.com/github/nitrozyna/Rosalind/blob/master/3_revc.ipynb\" target=\"_parent\"><img src=\"https://colab.research.google.com/assets/colab-badge.svg\" alt=\"Open In Colab\"/></a>"
      ]
    },
    {
      "cell_type": "markdown",
      "metadata": {
        "id": "DwNfoAoz3LLk",
        "colab_type": "text"
      },
      "source": [
        "Problem description:\n",
        "[Complementing a Strand of DNA](http://rosalind.info/problems/revc/\n",
        ")"
      ]
    },
    {
      "cell_type": "markdown",
      "metadata": {
        "id": "5P23M-hjs-Bv",
        "colab_type": "text"
      },
      "source": [
        "In **DNA strings**, **symbols** 'A' and 'T' are complements of each other, as are 'C' and 'G'.\n",
        "\n",
        "The **reverse complement** of a **DNA string** s is the string sc formed by reversing the symbols of s, then taking the complement of each symbol (e.g., the reverse complement of \"GTCA\" is \"TGAC\").\n",
        "---\n",
        "\n",
        "### Given: A DNA string s of length at most 1000 **bp**.\n",
        "\n",
        "### Return: The reverse complement of s.\n",
        "\n",
        "Sample Dataset\n",
        "\n",
        ">AAAACCCGGT\n",
        "\n",
        "Sample Output\n",
        "\n",
        ">ACCGGGTTTT"
      ]
    },
    {
      "cell_type": "code",
      "metadata": {
        "id": "4cTZc5uEyZ4R",
        "colab_type": "code",
        "colab": {}
      },
      "source": [
        "#@title Importing some modules to make a connection between Colab and Drive to download the current dataset\n",
        "!pip install PyDrive\n",
        "from pydrive.auth import GoogleAuth\n",
        "from pydrive.drive import GoogleDrive\n",
        "from google.colab import auth\n",
        "from oauth2client.client import GoogleCredentials\n",
        "auth.authenticate_user()\n",
        "gauth = GoogleAuth()\n",
        "gauth.credentials = GoogleCredentials.get_application_default()\n",
        "drive = GoogleDrive(gauth)\n"
      ],
      "execution_count": 0,
      "outputs": []
    },
    {
      "cell_type": "code",
      "metadata": {
        "id": "lYLxokDiy6Qm",
        "colab_type": "code",
        "colab": {}
      },
      "source": [
        "#@title Loading test dataset\n",
        "fileID = \"1Ejymxb6ioOQF2063hofM3kCo6TI__eTe\" #@param {type:\"string\"}\n",
        "downloaded = drive.CreateFile({'id':fileID})\n",
        "downloaded.GetContentFile('rosalind_revc.txt')  # replace the file name with your file"
      ],
      "execution_count": 0,
      "outputs": []
    },
    {
      "cell_type": "code",
      "metadata": {
        "id": "pDpv_IWnuadi",
        "colab_type": "code",
        "colab": {}
      },
      "source": [
        "#@title Function to create a reverse complement strand of DNA\n",
        "def reverseComplementDNA(dna,complement_dict):\n",
        "    complement = \"\"\n",
        "    for b in dna:\n",
        "        complement += complement_dict[b]\n",
        "    return complement[::-1]"
      ],
      "execution_count": 0,
      "outputs": []
    },
    {
      "cell_type": "code",
      "metadata": {
        "id": "CMCB_W77zaht",
        "colab_type": "code",
        "colab": {
          "base_uri": "https://localhost:8080/",
          "height": 54
        },
        "outputId": "a326e055-197c-44a4-d087-22c884bc2c15"
      },
      "source": [
        "#@title Creating a reverse complement from given DNA\n",
        "dna_string =  open(\"rosalind_revc.txt\",\"r\")\n",
        "complement_dict = {\"A\":\"T\",\"C\":\"G\",\"G\":\"C\",\"T\":\"A\"}\n",
        "with open('rosalind_revc.txt','r') as f:\n",
        "    dna = f.readline().rstrip(\"\\n\")\n",
        "    complement_dna = reverseComplementDNA(dna,complement_dict)\n",
        "print(complement_dna)"
      ],
      "execution_count": 5,
      "outputs": [
        {
          "output_type": "stream",
          "text": [
            "ACAGTAATACTGAGACATCGCGACAGGGCCCATCTAGGCTAGGAGTTTCTGTGTTAGGATACGTTCTTCGGTGTGGATCCGTCGCTCGCTCTGGGCACTTTTGAAGTATGAGTTCCGTGGGTCCTGAACCGAGCGTAGGAGACCTACGGAAAACCTTAGCTCCCTGTAAGATAGTTGTTCCGCTTAGACTTCACGGATGTTTCTTGCTATAATAGTAACAGACTATCATTGTGGTTGAACATCATTCCTAACCCTGGTAGGGCATTACCTACCTTCCGGCGGTGGGACACTAGTCGCGGGCTCCCCTTTTGGAATGGAGACTCGGGTACCCTCTACATTTTGACATGCACCTGGTACTACACACGATATAGTGACTATCCGCCTCTTGTTGAACTGCAGATATAGAAGCGCCCGACCTAACGAGCGGTTTAGACCATACAAAGGAGGAAGGCCCCGAGGTCGGATTCAAAAGGTACCGACGCCTGCCCCACTGAACTTCAGCCTCCAATGAGAGTCTCCTAACTGATGGCCGCAAGAGCCGCCGAAAATTTACGTACACAGCACTATTTTTCGTGGATTAAGGCGCAGCCGCTAACGCAGAGTGGGCCGCCGCGTTACACCCACTACACGACGAATATGACTCCAGTCAGGGAGCACGTCGAGTCATATTCCGATTGTCGCTCAGTAAAAGGGGTAAATTCCGTGTTCAAAACCCAAGCACACCTATATCCGCTATCCTGTGAAGATTCTCATGGGACACTGCGAAGTAAGTAGCGTCCCGAGTCTCCTAGCGGGTAAAAACTCGTTAGGGTGTCGTTGTACAGCAAACGAAGTACTAGGCTTATTTACCCCGTTTC\n"
          ],
          "name": "stdout"
        }
      ]
    }
  ]
}