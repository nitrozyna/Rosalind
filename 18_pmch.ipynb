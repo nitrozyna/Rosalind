{
  "nbformat": 4,
  "nbformat_minor": 0,
  "metadata": {
    "colab": {
      "name": "18_pmch.ipynb",
      "provenance": [],
      "collapsed_sections": [],
      "include_colab_link": true
    },
    "kernelspec": {
      "name": "python3",
      "display_name": "Python 3"
    }
  },
  "cells": [
    {
      "cell_type": "markdown",
      "metadata": {
        "id": "view-in-github",
        "colab_type": "text"
      },
      "source": [
        "<a href=\"https://colab.research.google.com/github/nitrozyna/Rosalind/blob/master/18_pmch.ipynb\" target=\"_parent\"><img src=\"https://colab.research.google.com/assets/colab-badge.svg\" alt=\"Open In Colab\"/></a>"
      ]
    },
    {
      "cell_type": "markdown",
      "metadata": {
        "id": "DwNfoAoz3LLk",
        "colab_type": "text"
      },
      "source": [
        "Problem description:\n",
        "[Perfect Matchings and RNA Secondary Structures](http://rosalind.info/problems/pmch/\n",
        ")"
      ]
    },
    {
      "cell_type": "markdown",
      "metadata": {
        "id": "5P23M-hjs-Bv",
        "colab_type": "text"
      },
      "source": [
        "A **matching** in a **graph** G is a collection of **edges** of G for which no node belongs to more than one edge in the collection. If G contains an even number of nodes (say 2n), then a matching on G is **perfect** if it contains n edges, which is clearly the maximum possible.\n",
        "\n",
        "First, let Kn denote the **complete graph** on 2n labeled nodes, in which every **node** is connected to every other node with an edge, and let pn denote the total number of perfect matchings in Kn. For a given node x, there are 2n−1 ways to join x to the other nodes in the graph, after which point we must form a perfect matching on the remaining 2n−2 nodes. This reasoning provides us with the recurrence relation pn=(2n−1)⋅pn−1; using the fact that p1 is 1, this **recurrence relation** implies the closed equation pn=(2n−1)(2n−3)(2n−5)⋯(3)(1).\n",
        "\n",
        "Given an **RNA string** s=s1…sn, a **bonding graph** for s is formed as follows. First, assign each symbol of s to a node, and arrange these nodes in order around a circle, connecting them with edges called **adjacency edges**. Second, form all possible edges {A, U} and {C, G}, called **basepair edges**.\n",
        "\n",
        "Note that a matching contained in the basepair edges will represent one possibility for base pairing interactions in s. For such a matching to exist, s must have the same number of occurrences of 'A' as 'U' and the same number of occurrences of 'C' as 'G'.\n",
        "\n",
        "---\n",
        "\n",
        "### Given: An RNA string s of length at most 80 bp having the same number of occurrences of 'A' as 'U' and the same number of occurrences of 'C' as 'G'. A DNA string s of length at most 100 bp and an array A containing at most 20 numbers between 0 and 1.\n",
        "\n",
        "### Return: The total possible number of perfect matchings of basepair edges in the bonding graph of s.\n",
        "\n",
        "Sample Dataset\n",
        "\n",
        ">Rosalind_23\n",
        "\n",
        ">AGCUAGUCAU\n",
        "\n",
        "Sample Output\n",
        "\n",
        ">12"
      ]
    },
    {
      "cell_type": "code",
      "metadata": {
        "id": "4cTZc5uEyZ4R",
        "colab_type": "code",
        "colab": {}
      },
      "source": [
        "#@title Importing some modules to make a connection between Colab and Drive to download the current dataset\n",
        "!pip install PyDrive\n",
        "from pydrive.auth import GoogleAuth\n",
        "from pydrive.drive import GoogleDrive\n",
        "from google.colab import auth\n",
        "from oauth2client.client import GoogleCredentials\n",
        "auth.authenticate_user()\n",
        "gauth = GoogleAuth()\n",
        "gauth.credentials = GoogleCredentials.get_application_default()\n",
        "drive = GoogleDrive(gauth)\n"
      ],
      "execution_count": null,
      "outputs": []
    },
    {
      "cell_type": "code",
      "metadata": {
        "id": "lYLxokDiy6Qm",
        "colab_type": "code",
        "colab": {}
      },
      "source": [
        "#@title Loading test dataset\n",
        "fileID = \"1i4dGhLv0SB3MnGH7-7_Tdip96SRG9ODJ\" #@param {type:\"string\"}\n",
        "downloaded = drive.CreateFile({'id':fileID})\n",
        "downloaded.GetContentFile('rosalind_pmch.txt')  # replace the file name with your file"
      ],
      "execution_count": 14,
      "outputs": []
    },
    {
      "cell_type": "code",
      "metadata": {
        "id": "pDpv_IWnuadi",
        "colab_type": "code",
        "colab": {}
      },
      "source": [
        "#@title Function to calculate all the possible RNA combinations\n",
        "import math\n",
        "def combinations(s):\n",
        "    a = s.count('A')\n",
        "    g = s.count('G')\n",
        "    return math.factorial(a) * math.factorial(g)"
      ],
      "execution_count": 15,
      "outputs": []
    },
    {
      "cell_type": "code",
      "metadata": {
        "id": "CMCB_W77zaht",
        "colab_type": "code",
        "colab": {
          "base_uri": "https://localhost:8080/",
          "height": 34
        },
        "outputId": "70db05b6-1690-4ad4-9bfa-d626f680201c"
      },
      "source": [
        "#@title Preprcessing\n",
        "with open('rosalind_pmch.txt','r') as f:\n",
        "    rna = \"\"\n",
        "    for line in f:\n",
        "        if not line.startswith(\">\"):\n",
        "            rna += line.strip()\n",
        "    print(combinations(rna))"
      ],
      "execution_count": 16,
      "outputs": [
        {
          "output_type": "stream",
          "text": [
            "43267632904897132203343872000000\n"
          ],
          "name": "stdout"
        }
      ]
    }
  ]
}