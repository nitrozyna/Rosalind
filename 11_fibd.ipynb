{
  "nbformat": 4,
  "nbformat_minor": 0,
  "metadata": {
    "colab": {
      "name": "11_fibd.ipynb",
      "provenance": [],
      "collapsed_sections": [],
      "include_colab_link": true
    },
    "kernelspec": {
      "name": "python3",
      "display_name": "Python 3"
    }
  },
  "cells": [
    {
      "cell_type": "markdown",
      "metadata": {
        "id": "view-in-github",
        "colab_type": "text"
      },
      "source": [
        "<a href=\"https://colab.research.google.com/github/nitrozyna/Rosalind/blob/master/11_fibd.ipynb\" target=\"_parent\"><img src=\"https://colab.research.google.com/assets/colab-badge.svg\" alt=\"Open In Colab\"/></a>"
      ]
    },
    {
      "cell_type": "markdown",
      "metadata": {
        "id": "DwNfoAoz3LLk",
        "colab_type": "text"
      },
      "source": [
        "Problem description:\n",
        "[Mortal Fibonacci Rabbits](http://rosalind.info/problems/fibd/)"
      ]
    },
    {
      "cell_type": "markdown",
      "metadata": {
        "id": "5P23M-hjs-Bv",
        "colab_type": "text"
      },
      "source": [
        "Recall the definition of the **Fibonacci numbers** from **“Rabbits and Recurrence Relations”**, which followed the **recurrence relation** Fn=Fn−1+Fn−2 and assumed that each pair of rabbits reaches maturity in one month and produces a single pair of offspring (one male, one female) each subsequent month.\n",
        "\n",
        "Our aim is to somehow modify this recurrence relation to achieve a **dynamic programming** solution in the case that all rabbits die out after a fixed number of months.\n",
        "\n",
        "### Given:  Positive integers n≤100 and  m≤20\n",
        "\n",
        "### Return: The total number of pairs of rabbits that will remain after the n-th month if all rabbits live for m months.\n",
        "\n",
        "\n",
        "\n",
        "Sample Dataset\n",
        "\n",
        ">6 3\n",
        "\n",
        "Sample Output\n",
        "\n",
        ">4"
      ]
    },
    {
      "cell_type": "code",
      "metadata": {
        "id": "4cTZc5uEyZ4R",
        "colab_type": "code",
        "colab": {}
      },
      "source": [
        "#@title Importing some modules to make a connection between Colab and Drive to download the current dataset\n",
        "!pip install PyDrive\n",
        "from pydrive.auth import GoogleAuth\n",
        "from pydrive.drive import GoogleDrive\n",
        "from google.colab import auth\n",
        "from oauth2client.client import GoogleCredentials\n",
        "auth.authenticate_user()\n",
        "gauth = GoogleAuth()\n",
        "gauth.credentials = GoogleCredentials.get_application_default()\n",
        "drive = GoogleDrive(gauth)\n"
      ],
      "execution_count": 0,
      "outputs": []
    },
    {
      "cell_type": "code",
      "metadata": {
        "id": "lYLxokDiy6Qm",
        "colab_type": "code",
        "colab": {}
      },
      "source": [
        "#@title Loading test dataset\n",
        "fileID = \"1Q5dtmnJyExLygh0WROwRjCaUt7DABMt4\" #@param {type:\"string\"}\n",
        "downloaded = drive.CreateFile({'id':fileID})\n",
        "downloaded.GetContentFile('rosalind_fibd.txt')  # replace the file name with your file"
      ],
      "execution_count": 0,
      "outputs": []
    },
    {
      "cell_type": "code",
      "metadata": {
        "id": "pDpv_IWnuadi",
        "colab_type": "code",
        "colab": {}
      },
      "source": [
        "#@title Function to calculate the number of rabbit pairs present after n months\n",
        "def fibbitsd(adults,litter,months,die):\n",
        "    counter = 1\n",
        "    adults = {}\n",
        "    while counter < months:\n",
        "        new_adults = {}\n",
        "        new_litter = sum(adults.values())\n",
        "        adults[0] = litter\n",
        "        litter = new_litter\n",
        "        for k,v in adults.items():\n",
        "            if k < die -1:\n",
        "                new_adults[k + 1] = v\n",
        "        adults = new_adults\n",
        "        counter += 1\n",
        "    return sum(new_adults.values()) + litter"
      ],
      "execution_count": 0,
      "outputs": []
    },
    {
      "cell_type": "code",
      "metadata": {
        "id": "CMCB_W77zaht",
        "colab_type": "code",
        "outputId": "1885f333-baab-4aed-adc6-24201eb4d9dd",
        "colab": {
          "base_uri": "https://localhost:8080/",
          "height": 34
        }
      },
      "source": [
        "#@title Calculting the The total number of rabbit pairs that will be present after n months\n",
        "with open('rosalind_fibd.txt','r') as f:\n",
        "    for line in f:\n",
        "        line = line.split()\n",
        "        rabbits = fibbitsd(0,1,int(line[0]),int(line[1]))\n",
        "print(rabbits)\n",
        "        \n",
        "    "
      ],
      "execution_count": 38,
      "outputs": [
        {
          "output_type": "stream",
          "text": [
            "158240333533794817\n"
          ],
          "name": "stdout"
        }
      ]
    }
  ]
}