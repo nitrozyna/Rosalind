{
  "nbformat": 4,
  "nbformat_minor": 0,
  "metadata": {
    "colab": {
      "name": "13_iev.ipynb",
      "provenance": [],
      "collapsed_sections": [],
      "include_colab_link": true
    },
    "kernelspec": {
      "name": "python3",
      "display_name": "Python 3"
    }
  },
  "cells": [
    {
      "cell_type": "markdown",
      "metadata": {
        "id": "view-in-github",
        "colab_type": "text"
      },
      "source": [
        "<a href=\"https://colab.research.google.com/github/nitrozyna/Rosalind/blob/master/13_iev.ipynb\" target=\"_parent\"><img src=\"https://colab.research.google.com/assets/colab-badge.svg\" alt=\"Open In Colab\"/></a>"
      ]
    },
    {
      "cell_type": "markdown",
      "metadata": {
        "id": "DwNfoAoz3LLk",
        "colab_type": "text"
      },
      "source": [
        "Problem description:\n",
        "[Calculating Expected Offspring](http://rosalind.info/problems/iev/\n",
        ")"
      ]
    },
    {
      "cell_type": "markdown",
      "metadata": {
        "id": "5P23M-hjs-Bv",
        "colab_type": "text"
      },
      "source": [
        "For a **random variable** X taking integer values between 1 and n, the **expected value** of X is E(X)=∑nk=1k×Pr(X=k). The expected value offers us a way of taking the long-term average of a random variable over a large number of trials.\n",
        "\n",
        "As a motivating example, let X be the number on a six-sided die. Over a large number of rolls, we should expect to obtain an average of 3.5 on the die (even though it's not possible to roll a 3.5). The formula for expected value confirms that E(X)=∑6k=1k×Pr(X=k)=3.5.\n",
        "\n",
        "More generally, a random variable for which every one of a number of equally spaced outcomes has the same probability is called a **uniform random variable** (in the die example, this \"equal spacing\" is equal to 1). We can generalize our die example to find that if X is a uniform random variable with minimum possible value a and maximum possible value b, then E(X)=a+b2. You may also wish to verify that for the dice example, if Y is the random variable associated with the outcome of a second die roll, then E(X+Y)=7.\n",
        "---\n",
        "\n",
        "### Given: Six nonnegative integers, each of which does not exceed 20,000. The integers correspond to the number of couples in a population possessing each genotype pairing for a given factor. In order, the six given integers represent the number of couples having the following genotypes:\n",
        "\n",
        "1. AA-AA\n",
        "2. AA-Aa\n",
        "3. AA-aa\n",
        "4. Aa-Aa\n",
        "5. Aa-aa\n",
        "6. aa-aa\n",
        "\n",
        "### Return: The expected number of offspring displaying the dominant phenotype in the next generation, under the assumption that every couple has exactly two offspring.\n",
        "\n",
        "Sample Dataset\n",
        "\n",
        ">1 0 0 1 0 1\n",
        "\n",
        "Sample Output\n",
        "\n",
        ">3.5"
      ]
    },
    {
      "cell_type": "code",
      "metadata": {
        "id": "4cTZc5uEyZ4R",
        "colab_type": "code",
        "colab": {}
      },
      "source": [
        "#@title Importing some modules to make a connection between Colab and Drive to download the current dataset\n",
        "!pip install PyDrive\n",
        "from pydrive.auth import GoogleAuth\n",
        "from pydrive.drive import GoogleDrive\n",
        "from google.colab import auth\n",
        "from oauth2client.client import GoogleCredentials\n",
        "auth.authenticate_user()\n",
        "gauth = GoogleAuth()\n",
        "gauth.credentials = GoogleCredentials.get_application_default()\n",
        "drive = GoogleDrive(gauth)\n"
      ],
      "execution_count": 0,
      "outputs": []
    },
    {
      "cell_type": "code",
      "metadata": {
        "id": "lYLxokDiy6Qm",
        "colab_type": "code",
        "cellView": "both",
        "colab": {}
      },
      "source": [
        "#@title Loading test dataset\n",
        "fileID = \"1jv1SkLRirOkrAmUlFZW1oTtDzPhOdjPO\" #@param {type:\"string\"}\n",
        "downloaded = drive.CreateFile({'id':fileID})\n",
        "downloaded.GetContentFile('rosalind_iev.txt')  # replace the file name with your file"
      ],
      "execution_count": 0,
      "outputs": []
    },
    {
      "cell_type": "code",
      "metadata": {
        "id": "pDpv_IWnuadi",
        "colab_type": "code",
        "colab": {}
      },
      "source": [
        "#@title Function to return expected dominant offspring from a list of parents\n",
        "def expectedDominantOffspring(parents):\n",
        "    return 2*(parents[0] + parents[1] + parents[2] + parents[3]*0.75 + parents[4]*0.5)\n"
      ],
      "execution_count": 0,
      "outputs": []
    },
    {
      "cell_type": "code",
      "metadata": {
        "id": "CMCB_W77zaht",
        "colab_type": "code",
        "outputId": "483c55d0-bc55-415d-a5c4-8f9ea6a98ec0",
        "colab": {
          "base_uri": "https://localhost:8080/",
          "height": 34
        }
      },
      "source": [
        "#@title Processing a file to obtain parents\n",
        "with open('rosalind_iev.txt','r') as f:\n",
        "    parents = f.readline().rstrip(\"\\n\").split()\n",
        "\n",
        "dominant_offspring = expectedDominantOffspring(list(map(int, parents[:-1])))\n",
        "print(int(dominant_offspring))"
      ],
      "execution_count": 22,
      "outputs": [
        {
          "output_type": "stream",
          "text": [
            "143126\n"
          ],
          "name": "stdout"
        }
      ]
    }
  ]
}