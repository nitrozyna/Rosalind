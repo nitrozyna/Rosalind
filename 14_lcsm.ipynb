{
  "nbformat": 4,
  "nbformat_minor": 0,
  "metadata": {
    "colab": {
      "name": "14_lcsm.ipynb",
      "provenance": [],
      "collapsed_sections": [],
      "include_colab_link": true
    },
    "kernelspec": {
      "name": "python3",
      "display_name": "Python 3"
    }
  },
  "cells": [
    {
      "cell_type": "markdown",
      "metadata": {
        "id": "view-in-github",
        "colab_type": "text"
      },
      "source": [
        "<a href=\"https://colab.research.google.com/github/nitrozyna/Rosalind/blob/master/14_lcsm.ipynb\" target=\"_parent\"><img src=\"https://colab.research.google.com/assets/colab-badge.svg\" alt=\"Open In Colab\"/></a>"
      ]
    },
    {
      "cell_type": "markdown",
      "metadata": {
        "id": "DwNfoAoz3LLk",
        "colab_type": "text"
      },
      "source": [
        "Problem description:\n",
        "[Finding a Shared Motif](http://rosalind.info/problems/lcsm/\n",
        ")"
      ]
    },
    {
      "cell_type": "markdown",
      "metadata": {
        "id": "5P23M-hjs-Bv",
        "colab_type": "text"
      },
      "source": [
        "A **common substring** of a collection of strings is a **substring** of every member of the collection. We say that a common substring is a **longest common substring** if there does not exist a longer common substring. For example, \"CG\" is a common substring of \"ACGTACGT\" and \"AACCGTATA\", but it is not as long as possible; in this case, \"CGTA\" is a longest common substring of \"ACGTACGT\" and \"AACCGTATA\".\n",
        "\n",
        "Note that the longest common substring is not necessarily unique; for a simple example, \"AA\" and \"CC\" are both longest common substrings of \"AACC\" and \"CCAA\".\n",
        "\n",
        "Given: A collection of k (k≤100) DNA strings of length at most 1 kbp each in FASTA format.\n",
        "\n",
        "Return: A longest common substring of the collection. (If multiple solutions exist, you may return any single solution.)\n",
        "---\n",
        "\n",
        "### Given: A collection of k (k≤100) DNA strings of length at most 1 kbp each in FASTA format.\n",
        "\n",
        "### Return: A longest common substring of the collection. (If multiple solutions exist, you may return any single solution.)\n",
        "\n",
        "Sample Dataset\n",
        "\n",
        ">Rosalind_1\n",
        "GATTACA\n",
        ">Rosalind_2\n",
        "TAGACCA\n",
        ">Rosalind_3\n",
        "ATACA\n",
        "\n",
        "Sample Output\n",
        "\n",
        "AC\n",
        "\n"
      ]
    },
    {
      "cell_type": "code",
      "metadata": {
        "id": "4cTZc5uEyZ4R",
        "colab_type": "code",
        "colab": {}
      },
      "source": [
        "#@title Importing some modules to make a connection between Colab and Drive to download the current dataset\n",
        "!pip install PyDrive\n",
        "from pydrive.auth import GoogleAuth\n",
        "from pydrive.drive import GoogleDrive\n",
        "from google.colab import auth\n",
        "from oauth2client.client import GoogleCredentials\n",
        "auth.authenticate_user()\n",
        "gauth = GoogleAuth()\n",
        "gauth.credentials = GoogleCredentials.get_application_default()\n",
        "drive = GoogleDrive(gauth)\n"
      ],
      "execution_count": 0,
      "outputs": []
    },
    {
      "cell_type": "code",
      "metadata": {
        "id": "lYLxokDiy6Qm",
        "colab_type": "code",
        "colab": {}
      },
      "source": [
        "#@title Loading test dataset\n",
        "fileID = \"1jSlN36-RtC18mzInIB6NH6nS7yKA23aF\" #@param {type:\"string\"}\n",
        "downloaded = drive.CreateFile({'id':fileID})\n",
        "downloaded.GetContentFile('rosalind_lcsm.txt')  # replace the file name with your file"
      ],
      "execution_count": 0,
      "outputs": []
    },
    {
      "cell_type": "code",
      "metadata": {
        "id": "pDpv_IWnuadi",
        "colab_type": "code",
        "colab": {}
      },
      "source": [
        "#@title Computing all the common substrings of a given string\n",
        "def allCommonSubstrings(dna):\n",
        "    all_strings = set()\n",
        "    for i,b in enumerate(dna):\n",
        "        counter = 0\n",
        "        all_strings.add(b)\n",
        "        while counter < len(dna):\n",
        "            counter += 1\n",
        "            all_strings.add(dna[i:counter])\n",
        "    return all_strings"
      ],
      "execution_count": 0,
      "outputs": []
    },
    {
      "cell_type": "code",
      "metadata": {
        "id": "CMCB_W77zaht",
        "colab_type": "code",
        "colab": {}
      },
      "source": [
        "#@title Preprocessing the file to get all the reads as strings\n",
        "with open('rosalind_lcsm.txt','r') as f:\n",
        "    reads = []\n",
        "    read = \"\"\n",
        "    for line in f:\n",
        "        line = line.strip()\n",
        "        if line.startswith(\">\"):\n",
        "            if read != \"\":\n",
        "                reads.append(read)\n",
        "            read = \"\"              \n",
        "        else:\n",
        "            read += line\n",
        "    reads.append(read)"
      ],
      "execution_count": 0,
      "outputs": []
    },
    {
      "cell_type": "code",
      "metadata": {
        "id": "lPoc5xasIM9q",
        "colab_type": "code",
        "colab": {
          "base_uri": "https://localhost:8080/",
          "height": 34
        },
        "outputId": "2a988220-959c-4d09-9ffa-bc9059af1646"
      },
      "source": [
        "#@title Printing the longest common substring of all given reads\n",
        "first_subsequences = allCommonSubstrings(reads[0])\n",
        "for read in reads[1:]:\n",
        "     first_subsequences.intersection_update(allCommonSubstrings(read))\n",
        "\n",
        "length = 0\n",
        "max_sub = read[0]\n",
        "for read in first_subsequences:\n",
        "    if len(read) > length:\n",
        "        max_sub = read\n",
        "        length = len(read)\n",
        "print(max_sub)"
      ],
      "execution_count": 85,
      "outputs": [
        {
          "output_type": "stream",
          "text": [
            "TAGACGCTCGACGTGGCGCGGTTGGTACTGAAGCATGGGTGCGAGTTGACCGGTTAGCGGATCCGCAAGAGTGGTTCTCAATGACCTTTGACCAGGA\n"
          ],
          "name": "stdout"
        }
      ]
    }
  ]
}