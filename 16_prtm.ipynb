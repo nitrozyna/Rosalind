{
  "nbformat": 4,
  "nbformat_minor": 0,
  "metadata": {
    "colab": {
      "name": "16_prtm.ipynb",
      "provenance": [],
      "collapsed_sections": [],
      "include_colab_link": true
    },
    "kernelspec": {
      "name": "python3",
      "display_name": "Python 3"
    }
  },
  "cells": [
    {
      "cell_type": "markdown",
      "metadata": {
        "id": "view-in-github",
        "colab_type": "text"
      },
      "source": [
        "<a href=\"https://colab.research.google.com/github/nitrozyna/Rosalind/blob/master/16_prtm.ipynb\" target=\"_parent\"><img src=\"https://colab.research.google.com/assets/colab-badge.svg\" alt=\"Open In Colab\"/></a>"
      ]
    },
    {
      "cell_type": "markdown",
      "metadata": {
        "id": "DwNfoAoz3LLk",
        "colab_type": "text"
      },
      "source": [
        "Problem description:\n",
        "[Calculating Protein Mass](http://rosalind.info/problems/prtm/\n",
        ")"
      ]
    },
    {
      "cell_type": "markdown",
      "metadata": {
        "id": "5P23M-hjs-Bv",
        "colab_type": "text"
      },
      "source": [
        "In a **weighted alphabet**, every symbol is assigned a positive real number called a **weight**. A string formed from a weighted alphabet is called a **weighted string**, and its **weight** is equal to the sum of the weights of its symbols.\n",
        "\n",
        "The standard weight assigned to each member of the 20-symbol amino acid alphabet is the **monoisotopic mass** of the corresponding amino acid.\n",
        "---\n",
        "\n",
        "### Given: A protein string P of length at most 1000 aa.\n",
        "\n",
        "### Return: The total weight of P. Consult the monoisotopic mass table.\n",
        "\n",
        "Sample Dataset\n",
        "\n",
        ">SKADYEK\n",
        "\n",
        "Sample Output\n",
        "\n",
        ">821.392"
      ]
    },
    {
      "cell_type": "code",
      "metadata": {
        "id": "4cTZc5uEyZ4R",
        "colab_type": "code",
        "colab": {}
      },
      "source": [
        "#@title Importing some modules to make a connection between Colab and Drive to download the current dataset\n",
        "!pip install PyDrive\n",
        "from pydrive.auth import GoogleAuth\n",
        "from pydrive.drive import GoogleDrive\n",
        "from google.colab import auth\n",
        "from oauth2client.client import GoogleCredentials\n",
        "auth.authenticate_user()\n",
        "gauth = GoogleAuth()\n",
        "gauth.credentials = GoogleCredentials.get_application_default()\n",
        "drive = GoogleDrive(gauth)\n"
      ],
      "execution_count": 0,
      "outputs": []
    },
    {
      "cell_type": "code",
      "metadata": {
        "id": "lYLxokDiy6Qm",
        "colab_type": "code",
        "cellView": "both",
        "colab": {}
      },
      "source": [
        "#@title Loading test dataset\n",
        "fileID = \"1H5zmr1T9pKcXf8vT-AL5AhzWMgGX2iIk\" #@param {type:\"string\"}\n",
        "downloaded = drive.CreateFile({'id':fileID})\n",
        "downloaded.GetContentFile('rosalind_prtm.txt')  # replace the file name with your file"
      ],
      "execution_count": 0,
      "outputs": []
    },
    {
      "cell_type": "code",
      "metadata": {
        "id": "QoUPMfHrF49Z",
        "colab_type": "code",
        "colab": {}
      },
      "source": [
        "mass_table = {\n",
        "    'A': 71.03711,\n",
        "    'C': 103.00919,\n",
        "    'D': 115.02694,\n",
        "    'E': 129.04259,\n",
        "    'F': 147.06841,\n",
        "    'G': 57.02146,\n",
        "    'H': 137.05891,\n",
        "    'I': 113.08406,\n",
        "    'K': 128.09496,\n",
        "    'L': 113.08406,\n",
        "    'M': 131.04049,\n",
        "    'N': 114.04293,\n",
        "    'P': 97.05276,\n",
        "    'Q': 128.05858,\n",
        "    'R': 156.10111,\n",
        "    'S': 87.03203,\n",
        "    'T': 101.04768,\n",
        "    'V': 99.06841,\n",
        "    'W': 186.07931,\n",
        "    'Y': 163.06333,\n",
        "}"
      ],
      "execution_count": 0,
      "outputs": []
    },
    {
      "cell_type": "code",
      "metadata": {
        "id": "CMCB_W77zaht",
        "colab_type": "code",
        "colab": {
          "base_uri": "https://localhost:8080/",
          "height": 34
        },
        "outputId": "89d247c1-0bdc-4460-e540-daea898da4ed"
      },
      "source": [
        "#@title Preprocessing and calculating Protein Mass\n",
        "total = 0\n",
        "with open('rosalind_prtm.txt','r') as f:\n",
        "    for line in f:\n",
        "        protein = line.strip()\n",
        "        for letter in protein:\n",
        "            if letter in mass_table:\n",
        "                total += mass_table[letter]\n",
        "    print(total)"
      ],
      "execution_count": 4,
      "outputs": [
        {
          "output_type": "stream",
          "text": [
            "108240.68655000055\n"
          ],
          "name": "stdout"
        }
      ]
    }
  ]
}