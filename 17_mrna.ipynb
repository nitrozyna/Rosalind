{
  "nbformat": 4,
  "nbformat_minor": 0,
  "metadata": {
    "colab": {
      "name": "17_mrna.ipynb",
      "provenance": [],
      "collapsed_sections": [],
      "include_colab_link": true
    },
    "kernelspec": {
      "name": "python3",
      "display_name": "Python 3"
    }
  },
  "cells": [
    {
      "cell_type": "markdown",
      "metadata": {
        "id": "view-in-github",
        "colab_type": "text"
      },
      "source": [
        "<a href=\"https://colab.research.google.com/github/nitrozyna/Rosalind/blob/master/17_mrna.ipynb\" target=\"_parent\"><img src=\"https://colab.research.google.com/assets/colab-badge.svg\" alt=\"Open In Colab\"/></a>"
      ]
    },
    {
      "cell_type": "markdown",
      "metadata": {
        "id": "DwNfoAoz3LLk",
        "colab_type": "text"
      },
      "source": [
        "Problem description:\n",
        "[Introduction to Random Strings](http://rosalind.info/problems/prob/\n",
        ")"
      ]
    },
    {
      "cell_type": "markdown",
      "metadata": {
        "id": "5P23M-hjs-Bv",
        "colab_type": "text"
      },
      "source": [
        "An **array** is a structure containing an ordered collection of objects (numbers, strings, other arrays, etc.). We let **A[k]** denote the **k-th** value in array A. You may like to think of an array as simply a **matrix** having only one row.\n",
        "\n",
        "A **random string** is constructed so that the probability of choosing each subsequent symbol is based on a fixed underlying symbol frequency.\n",
        "\n",
        "**GC-content** offers us natural symbol frequencies for constructing random **DNA strings**. If the GC-content is x, then we set the symbol frequencies of C and G equal to x/2 and the symbol frequencies of A and T equal to (1−x)/2. For example, if the GC-content is 40%, then as we construct the string, the next symbol is 'G'/'C' with probability 0.2, and the next symbol is 'A'/'T' with probability 0.3.\n",
        "\n",
        "In practice, many probabilities wind up being very small. In order to work with small probabilities, we may plug them into a function that \"blows them up\" for the sake of comparison. Specifically, the **common logarithm** of x (defined for x>0 and denoted log10(x)) is the exponent to which we must raise 10 to obtain x.\n",
        "\n",
        "---\n",
        "\n",
        "### Given: A DNA string s of length at most 100 bp and an array A containing at most 20 numbers between 0 and 1.\n",
        "\n",
        "### Return: An array B having the same length as A in which B[k] represents the common logarithm of the probability that a random string constructed with the GC-content found in A[k] will match s exactly.\n",
        "\n",
        "Sample Dataset\n",
        "\n",
        ">ACGATACAA\n",
        "\n",
        ">0.129 0.287 0.423 0.476 0.641 0.742 0.783\n",
        "\n",
        "Sample Output\n",
        "\n",
        ">-5.737 -5.217 -5.263 -5.360 -5.958 -6.628 -7.009"
      ]
    },
    {
      "cell_type": "code",
      "metadata": {
        "id": "4cTZc5uEyZ4R",
        "colab_type": "code",
        "colab": {}
      },
      "source": [
        "#@title Importing some modules to make a connection between Colab and Drive to download the current dataset\n",
        "!pip install PyDrive\n",
        "from pydrive.auth import GoogleAuth\n",
        "from pydrive.drive import GoogleDrive\n",
        "from google.colab import auth\n",
        "from oauth2client.client import GoogleCredentials\n",
        "auth.authenticate_user()\n",
        "gauth = GoogleAuth()\n",
        "gauth.credentials = GoogleCredentials.get_application_default()\n",
        "drive = GoogleDrive(gauth)\n"
      ],
      "execution_count": null,
      "outputs": []
    },
    {
      "cell_type": "code",
      "metadata": {
        "id": "lYLxokDiy6Qm",
        "colab_type": "code",
        "colab": {}
      },
      "source": [
        "#@title Loading test dataset\n",
        "fileID = \"1i8i8d0Jqo5PxwRR7rXc--qE_D3pht23Q\" #@param {type:\"string\"}\n",
        "downloaded = drive.CreateFile({'id':fileID})\n",
        "downloaded.GetContentFile('rosalind_prob.txt')  # replace the file name with your file"
      ],
      "execution_count": 54,
      "outputs": []
    },
    {
      "cell_type": "code",
      "metadata": {
        "id": "pDpv_IWnuadi",
        "colab_type": "code",
        "colab": {}
      },
      "source": [
        "#@title Functions to calculate the final probabilities\n",
        "\n",
        "import math\n",
        "\n",
        "def dna_prob(num,gc_count,at_count):\n",
        "    gc = math.log(float(num)/2,10)\n",
        "    at = math.log((1- float(num))/2,10)\n",
        "    res = gc_count*gc + at_count*at\n",
        "    return str(round(res,3))\n",
        "\n",
        "def final_prob(dna,gc_prob):\n",
        "    gc_count = dna.count(\"G\") + dna.count(\"C\")\n",
        "    at_count = len(dna) - gc_count\n",
        "    nums = gc_prob.split()\n",
        "    final = []\n",
        "    for num in nums:\n",
        "        res = dna_prob(num,gc_count,at_count)\n",
        "        final.append(res)\n",
        "    return final"
      ],
      "execution_count": 81,
      "outputs": []
    },
    {
      "cell_type": "code",
      "metadata": {
        "id": "CMCB_W77zaht",
        "colab_type": "code",
        "colab": {
          "base_uri": "https://localhost:8080/",
          "height": 34
        },
        "outputId": "76497e2e-e424-4eb2-9cc3-7b58585bbc77"
      },
      "source": [
        "#@title Preprcessing\n",
        "with open('rosalind_prob.txt','r') as f:\n",
        "    all = f.readlines()\n",
        "    result = final_prob(all[0].strip(),all[1].strip())\n",
        "\n",
        "print(\" \".join(result))\n"
      ],
      "execution_count": 82,
      "outputs": [
        {
          "output_type": "stream",
          "text": [
            "-80.453 -71.618 -62.748 -59.829 -57.704 -56.478 -54.63 -54.376 -54.031 -54.673 -55.713 -56.959 -61.422 -67.818 -74.041\n"
          ],
          "name": "stdout"
        }
      ]
    }
  ]
}