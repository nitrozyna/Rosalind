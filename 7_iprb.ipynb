{
  "nbformat": 4,
  "nbformat_minor": 0,
  "metadata": {
    "colab": {
      "name": "7_iprb.ipynb",
      "provenance": [],
      "collapsed_sections": [],
      "include_colab_link": true
    },
    "kernelspec": {
      "name": "python3",
      "display_name": "Python 3"
    }
  },
  "cells": [
    {
      "cell_type": "markdown",
      "metadata": {
        "id": "view-in-github",
        "colab_type": "text"
      },
      "source": [
        "<a href=\"https://colab.research.google.com/github/nitrozyna/Rosalind/blob/master/7_iprb.ipynb\" target=\"_parent\"><img src=\"https://colab.research.google.com/assets/colab-badge.svg\" alt=\"Open In Colab\"/></a>"
      ]
    },
    {
      "cell_type": "markdown",
      "metadata": {
        "id": "DwNfoAoz3LLk",
        "colab_type": "text"
      },
      "source": [
        "Problem description:\n",
        "[Mendel's First Law](http://rosalind.info/problems/iprb/\n",
        ")"
      ]
    },
    {
      "cell_type": "markdown",
      "metadata": {
        "id": "5P23M-hjs-Bv",
        "colab_type": "text"
      },
      "source": [
        "**Probability** is the mathematical study of randomly occurring phenomena. We will model such a phenomenon with a **random variable**, which is simply a variable that can take a number of different distinct **outcomes** depending on the result of an underlying random process.\n",
        "\n",
        "For example, say that we have a bag containing 3 red balls and 2 blue balls. If we let **X** represent the random variable corresponding to the color of a drawn ball, then the **probability** of each of the two outcomes is given by Pr(X=red)=35 and Pr(X=blue)=25.\n",
        "\n",
        "Random variables can be combined to yield new random variables. Returning to the ball example, let **Y** model the color of a second ball drawn from the bag (without replacing the first ball). The probability of **Y** being red depends on whether the first ball was red or blue. To represent all outcomes of **X** and **Y**, we therefore use a **probability tree diagram**. This branching diagram represents all possible individual probabilities for **X** and **Y**, with outcomes at the endpoints (\"leaves\") of the tree. The probability of any outcome is given by the product of probabilities along the path from the beginning of the tree; see Figure 2 for an illustrative example.\n",
        "\n",
        "An **event** is simply a collection of outcomes. Because outcomes are distinct, the probability of an event can be written as the sum of the probabilities of its constituent outcomes. For our colored ball example, let A be the event \"Y is blue.\" Pr(A) is equal to the sum of the probabilities of two different outcomes: Pr(X=blue and Y=blue)+Pr(X=red and Y=blue), or 310+110=25 (see Figure 2 above).\n",
        "---\n",
        "\n",
        "### Three positive integers k, m, and n, representing a population containing k+m+n organisms: k individuals are homozygous dominant for a factor, m are heterozygous, and n are homozygous recessive.\n",
        "\n",
        "### Return: The probability that two randomly selected mating organisms will produce an individual possessing a dominant allele (and thus displaying the dominant phenotype). Assume that any two organisms can mate.\n",
        "\n",
        "Sample Dataset\n",
        "\n",
        ">2 2 2\n",
        "\n",
        "Sample Output\n",
        "\n",
        ">0.78333"
      ]
    },
    {
      "cell_type": "code",
      "metadata": {
        "id": "4cTZc5uEyZ4R",
        "colab_type": "code",
        "colab": {}
      },
      "source": [
        "#@title Importing some modules to make a connection between Colab and Drive to download the current dataset\n",
        "!pip install PyDrive\n",
        "from pydrive.auth import GoogleAuth\n",
        "from pydrive.drive import GoogleDrive\n",
        "from google.colab import auth\n",
        "from oauth2client.client import GoogleCredentials\n",
        "auth.authenticate_user()\n",
        "gauth = GoogleAuth()\n",
        "gauth.credentials = GoogleCredentials.get_application_default()\n",
        "drive = GoogleDrive(gauth)\n"
      ],
      "execution_count": 0,
      "outputs": []
    },
    {
      "cell_type": "code",
      "metadata": {
        "id": "lYLxokDiy6Qm",
        "colab_type": "code",
        "colab": {}
      },
      "source": [
        "#@title Loading test dataset\n",
        "fileID = \"1U2OCyrCjgzNH75XletbPpMDZ6XYK9P79\" #@param {type:\"string\"}\n",
        "downloaded = drive.CreateFile({'id':fileID})\n",
        "downloaded.GetContentFile('rosalind_iprb.txt')  # replace the file name with your file"
      ],
      "execution_count": 0,
      "outputs": []
    },
    {
      "cell_type": "code",
      "metadata": {
        "id": "pDpv_IWnuadi",
        "colab_type": "code",
        "colab": {}
      },
      "source": [
        "#@title Function to calculate the probability of an individual possesing a dominant allele\n",
        "def probabilityDominance(dom,het,rec):\n",
        "    total = dom + het + rec\n",
        "    DD = (dom/total)*((dom-1)/(total-1))\n",
        "    DH = 2*(het/total)*dom/(total-1)\n",
        "    DR = 2*(dom/total)*rec/(total-1)\n",
        "    HH = (het/total)*((het-1)/(total-1))\n",
        "    RR = (rec/total)*((rec-1)/(total-1))\n",
        "    HR = 2*(het/total)*rec/(total-1)\n",
        "\n",
        "    prob_dom = DD + DH + 0.5*HR + 0.75*HH + DR\n",
        "    return round(prob_dom,5)"
      ],
      "execution_count": 0,
      "outputs": []
    },
    {
      "cell_type": "code",
      "metadata": {
        "id": "CMCB_W77zaht",
        "colab_type": "code",
        "outputId": "36b13178-0a97-4ebd-ab60-1cf333580268",
        "colab": {
          "base_uri": "https://localhost:8080/",
          "height": 34
        }
      },
      "source": [
        "#@title Calculting probability of domanant alleles in an individual\n",
        "with open('rosalind_iprb.txt','r') as f:\n",
        "    for line in  f.readlines():\n",
        "        individuals = line.strip().split(\" \")\n",
        "        prob_dom = probabilityDominance(int(individuals[0]),int(individuals[1]),int(individuals[2]))\n",
        "print(prob_dom)"
      ],
      "execution_count": 46,
      "outputs": [
        {
          "output_type": "stream",
          "text": [
            "0.82441\n"
          ],
          "name": "stdout"
        }
      ]
    },
    {
      "cell_type": "code",
      "metadata": {
        "id": "cbKrzCOIar_1",
        "colab_type": "code",
        "colab": {}
      },
      "source": [
        ""
      ],
      "execution_count": 0,
      "outputs": []
    }
  ]
}