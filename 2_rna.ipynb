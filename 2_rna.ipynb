{
  "nbformat": 4,
  "nbformat_minor": 0,
  "metadata": {
    "colab": {
      "name": "2_rna.ipynb",
      "provenance": [],
      "collapsed_sections": [],
      "include_colab_link": true
    },
    "kernelspec": {
      "name": "python3",
      "display_name": "Python 3"
    }
  },
  "cells": [
    {
      "cell_type": "markdown",
      "metadata": {
        "id": "view-in-github",
        "colab_type": "text"
      },
      "source": [
        "<a href=\"https://colab.research.google.com/github/nitrozyna/Rosalind/blob/master/2_rna.ipynb\" target=\"_parent\"><img src=\"https://colab.research.google.com/assets/colab-badge.svg\" alt=\"Open In Colab\"/></a>"
      ]
    },
    {
      "cell_type": "markdown",
      "metadata": {
        "id": "DwNfoAoz3LLk",
        "colab_type": "text"
      },
      "source": [
        "Problem description:\n",
        "[Transcribing DNA into RNA](http://rosalind.info/problems/rna/\n",
        ")"
      ]
    },
    {
      "cell_type": "markdown",
      "metadata": {
        "id": "5P23M-hjs-Bv",
        "colab_type": "text"
      },
      "source": [
        "An **RNA string** is a string formed from the alphabet containing 'A', 'C', 'G', and 'U'.\n",
        "\n",
        "Given a **DNA string** t corresponding to a coding strand, its transcribed **RNA string** u is formed by replacing all occurrences of 'T' in t with 'U' in u.\n",
        "---\n",
        "\n",
        "### Given: DNA string t having length at most 1000 nt.\n",
        "\n",
        "### Return:  The transcribed RNA string of t.\n",
        "\n",
        "Sample Dataset\n",
        "\n",
        ">GATGGAACTTGACTACGTAAATT\n",
        "\n",
        "Sample Output\n",
        "\n",
        ">GAUGGAACUUGACUACGUAAAUU\n",
        "\n"
      ]
    },
    {
      "cell_type": "code",
      "metadata": {
        "id": "4cTZc5uEyZ4R",
        "colab_type": "code",
        "colab": {}
      },
      "source": [
        "#@title Importing some modules to make a connection between Colab and Drive to download the current dataset\n",
        "!pip install PyDrive\n",
        "from pydrive.auth import GoogleAuth\n",
        "from pydrive.drive import GoogleDrive\n",
        "from google.colab import auth\n",
        "from oauth2client.client import GoogleCredentials\n",
        "auth.authenticate_user()\n",
        "gauth = GoogleAuth()\n",
        "gauth.credentials = GoogleCredentials.get_application_default()\n",
        "drive = GoogleDrive(gauth)\n"
      ],
      "execution_count": 0,
      "outputs": []
    },
    {
      "cell_type": "code",
      "metadata": {
        "id": "lYLxokDiy6Qm",
        "colab_type": "code",
        "colab": {}
      },
      "source": [
        "#@title Loading test dataset\n",
        "fileID = \"1kbJp6FDm-0YVFMYjtyDx0-tjkqz52G4B\" #@param {type:\"string\"}\n",
        "downloaded = drive.CreateFile({'id':fileID})\n",
        "downloaded.GetContentFile('rosalind_rna.txt')  # replace the file name with your file"
      ],
      "execution_count": 0,
      "outputs": []
    },
    {
      "cell_type": "code",
      "metadata": {
        "id": "pDpv_IWnuadi",
        "colab_type": "code",
        "colab": {}
      },
      "source": [
        "#@title Function for translating DNA into RNA\n",
        "def translateDNA(dna):\n",
        "    return dna.replace(\"T\",\"U\")"
      ],
      "execution_count": 0,
      "outputs": []
    },
    {
      "cell_type": "code",
      "metadata": {
        "id": "CMCB_W77zaht",
        "colab_type": "code",
        "colab": {}
      },
      "source": [
        "#@title Translating provided DNA into RNA\n",
        "dna_string =  open(\"rosalind_rna.txt\",\"r\")\n",
        "with open('rosalind_rna.txt','r') as f:\n",
        "    for dna in f:\n",
        "        dna.rstrip()\n",
        "        translated_rna = translateDNA(dna)\n",
        "print(translated_rna)"
      ],
      "execution_count": 0,
      "outputs": []
    },
    {
      "cell_type": "code",
      "metadata": {
        "id": "RVVnhk2k-O2Q",
        "colab_type": "code",
        "colab": {}
      },
      "source": [
        ""
      ],
      "execution_count": 0,
      "outputs": []
    }
  ]
}