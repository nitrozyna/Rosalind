{
  "nbformat": 4,
  "nbformat_minor": 0,
  "metadata": {
    "colab": {
      "name": "8_prot.ipynb",
      "provenance": [],
      "collapsed_sections": [],
      "include_colab_link": true
    },
    "kernelspec": {
      "name": "python3",
      "display_name": "Python 3"
    }
  },
  "cells": [
    {
      "cell_type": "markdown",
      "metadata": {
        "id": "view-in-github",
        "colab_type": "text"
      },
      "source": [
        "<a href=\"https://colab.research.google.com/github/nitrozyna/Rosalind/blob/master/8_prot.ipynb\" target=\"_parent\"><img src=\"https://colab.research.google.com/assets/colab-badge.svg\" alt=\"Open In Colab\"/></a>"
      ]
    },
    {
      "cell_type": "markdown",
      "metadata": {
        "id": "DwNfoAoz3LLk",
        "colab_type": "text"
      },
      "source": [
        "Problem description:\n",
        "[Translating RNA into Protein](http://rosalind.info/problems/prot/\n",
        ")"
      ]
    },
    {
      "cell_type": "markdown",
      "metadata": {
        "id": "5P23M-hjs-Bv",
        "colab_type": "text"
      },
      "source": [
        "The 20 commonly occurring amino acids are abbreviated by using 20 letters from the English **alphabet** (all letters except for B, J, O, U, X, and Z). **Protein strings** are constructed from these 20 symbols. Henceforth, the term **genetic string** will incorporate protein strings along with **DNA strings** and **RNA strings**.\n",
        "\n",
        "**The RNA codon table** dictates the details regarding the encoding of specific codons into the amino acid alphabet.\n",
        "---\n",
        "\n",
        "### Given: An RNA string s corresponding to a strand of mRNA (of length at most 10 kbp).\n",
        "\n",
        "### Return: The protein string encoded by s.\n",
        "\n",
        "Sample Dataset\n",
        "\n",
        ">AUGGCCAUGGCGCCCAGAACUGAGAUCAAUAGUACCCGUAUUAACGGGUGA\n",
        "\n",
        "Sample Output\n",
        "\n",
        ">MAMAPRTEINSTRING\n",
        "\n"
      ]
    },
    {
      "cell_type": "code",
      "metadata": {
        "id": "4cTZc5uEyZ4R",
        "colab_type": "code",
        "colab": {}
      },
      "source": [
        "#@title Importing some modules to make a connection between Colab and Drive to download the current dataset\n",
        "!pip install PyDrive\n",
        "from pydrive.auth import GoogleAuth\n",
        "from pydrive.drive import GoogleDrive\n",
        "from google.colab import auth\n",
        "from oauth2client.client import GoogleCredentials\n",
        "auth.authenticate_user()\n",
        "gauth = GoogleAuth()\n",
        "gauth.credentials = GoogleCredentials.get_application_default()\n",
        "drive = GoogleDrive(gauth)\n"
      ],
      "execution_count": 0,
      "outputs": []
    },
    {
      "cell_type": "code",
      "metadata": {
        "id": "lYLxokDiy6Qm",
        "colab_type": "code",
        "colab": {}
      },
      "source": [
        "#@title Loading test dataset\n",
        "fileID = \"1qDx4SVjGUtdKauSyoUXde02VUjcWvyY-\" #@param {type:\"string\"}\n",
        "downloaded = drive.CreateFile({'id':fileID})\n",
        "downloaded.GetContentFile('rosalind_prot.txt')  # replace the file name with your file"
      ],
      "execution_count": 0,
      "outputs": []
    },
    {
      "cell_type": "code",
      "metadata": {
        "id": "cxePJe693v1q",
        "colab_type": "code",
        "colab": {}
      },
      "source": [
        "#@title Codon table\n",
        "codons = {\n",
        "    \"UUU\": \"F\",\n",
        "    \"CUU\": \"L\",\n",
        "    \"AUU\": \"I\",\n",
        "    \"GUU\": \"V\",\n",
        "    \"UUC\": \"F\",\n",
        "    \"CUC\": \"L\",\n",
        "    \"AUC\": \"I\",\n",
        "    \"GUC\": \"V\",\n",
        "    \"UUA\": \"L\",\n",
        "    \"CUA\": \"L\",\n",
        "    \"AUA\": \"I\",\n",
        "    \"GUA\": \"V\",\n",
        "    \"UUG\": \"L\",\n",
        "    \"CUG\": \"L\",\n",
        "    \"AUG\": \"M\",\n",
        "    \"GUG\": \"V\",\n",
        "    \"UCU\": \"S\",\n",
        "    \"CCU\": \"P\",\n",
        "    \"ACU\": \"T\",\n",
        "    \"GCU\": \"A\",\n",
        "    \"UCC\": \"S\",\n",
        "    \"CCC\": \"P\",\n",
        "    \"ACC\": \"T\",\n",
        "    \"GCC\": \"A\",\n",
        "    \"UCA\": \"S\",\n",
        "    \"CCA\": \"P\",\n",
        "    \"ACA\": \"T\",\n",
        "    \"GCA\": \"A\",\n",
        "    \"UCG\": \"S\",\n",
        "    \"CCG\": \"P\",\n",
        "    \"ACG\": \"T\",\n",
        "    \"GCG\": \"A\",\n",
        "    \"UAU\": \"Y\",\n",
        "    \"CAU\": \"H\",\n",
        "    \"AAU\": \"N\",\n",
        "    \"GAU\": \"D\",\n",
        "    \"UAC\": \"Y\",\n",
        "    \"CAC\": \"H\",\n",
        "    \"AAC\": \"N\",\n",
        "    \"GAC\": \"D\",\n",
        "    \"UAA\": \"*\",\n",
        "    \"CAA\": \"Q\",\n",
        "    \"AAA\": \"K\",\n",
        "    \"GAA\": \"E\",\n",
        "    \"UAG\": \"*\",\n",
        "    \"CAG\": \"Q\",\n",
        "    \"AAG\": \"K\",\n",
        "    \"GAG\": \"E\",\n",
        "    \"UGU\": \"C\",\n",
        "    \"CGU\": \"R\",\n",
        "    \"AGU\": \"S\",\n",
        "    \"GGU\": \"G\",\n",
        "    \"UGC\": \"C\",\n",
        "    \"CGC\": \"R\",\n",
        "    \"AGC\": \"S\",\n",
        "    \"GGC\": \"G\",\n",
        "    \"UGA\": \"*\",\n",
        "    \"CGA\": \"R\",\n",
        "    \"AGA\": \"R\",\n",
        "    \"GGA\": \"G\",\n",
        "    \"UGG\": \"W\",\n",
        "    \"CGG\": \"R\",\n",
        "    \"AGG\": \"R\",\n",
        "    \"GGG\": \"G\"\n",
        "}"
      ],
      "execution_count": 0,
      "outputs": []
    },
    {
      "cell_type": "code",
      "metadata": {
        "id": "pDpv_IWnuadi",
        "colab_type": "code",
        "colab": {}
      },
      "source": [
        "#@title Function for translating RNA into protein\n",
        "def translateRnaToProtein(rna):\n",
        "    counter = 3\n",
        "    code = \"\"\n",
        "    c = 0\n",
        "    protein = \"\"\n",
        "    for i in rna:\n",
        "        code += i\n",
        "        c += 1\n",
        "        if c == counter:\n",
        "            if code in codons:\n",
        "                p = codons[code]\n",
        "                if p == '*':\n",
        "                    break\n",
        "                protein += p\n",
        "            c = 0\n",
        "            code = \"\"\n",
        "    return protein\n",
        "    "
      ],
      "execution_count": 0,
      "outputs": []
    },
    {
      "cell_type": "code",
      "metadata": {
        "id": "CMCB_W77zaht",
        "colab_type": "code",
        "colab": {
          "base_uri": "https://localhost:8080/",
          "height": 54
        },
        "outputId": "bf908d12-6f30-4cb7-81b5-efd4db0b6326"
      },
      "source": [
        "#@title Translating provided RNA into protein\n",
        "with open('rosalind_prot.txt','r') as f:\n",
        "    for rna in f:\n",
        "        print(translateRnaToProtein(rna.strip()))"
      ],
      "execution_count": 37,
      "outputs": [
        {
          "output_type": "stream",
          "text": [
            "MLPLTIDWRQLPIIRIEFLSIVRGQGRRVVTYVQLLTGQGILSGIIRAAKGHACGNDFHQTRFLDADARWTLYPNAYQRNRAITVSMRPTALLCYRTFTCIRDIFIKHLGRKEDILRSKAVRVLLTSTLAIMRLAETKVGNLSSAPGSTEPICFQNAPACKRQPKYFMGYRGKRKTVSHNYLIHPFVWYRTYSIGLDHDQFIPILHDTREELDSIRERLMDPQLPPTRGPCATYERAKSPISNNHHPAFAIVLPRRDYLSDVANTRGRLVSGALEPQGLSWIGAIPLHLPARYFPSVKGSLITESTGRITRRYHLLLGLTGSYQPRPRFLTGGLAQRAETKIARAITMGRIFESGAVVRLRVCERTNLLVSTDCLPSAYKCLNESLGLPTPSLAHGDLRPRRYSIMIGLSRAKTGNYFLINPNLMRSPTGMKGYAVWVLGSLACNASLYARLAYTQVEAGARVRHSLAFEVFRRSSKNNKFFIMIALHTTPNGRRVESVSRVRFLTVFPCVCNGRDYLRYTWRIVLQSALGGLIGSEVRLSRHIPQRRNSDSDYRLGSLPSLHYVNCRFTVVQAKEVSPLGVVNLTVNLVCPRALVYIYDIHLEILTELAYWLGSAYWCWSFMVAKDSTSQCVRTATATLPQLLRMICAVTLRISAKIRTTAEQTVLRMTAPSMGHRLSPGVMSLSEDVYVIFKPLISQPYSSPAPTHNHIVSGEPPGSSTVHIYSQGRQVIRLPSEKIPRVGWYVSGWAPTSGLFPSSDIRHADSPKYFLDVNIIIQRVMGQKCGTTTSLGELFAAKRVGYGLPQRDTPRDCHGSEEPTPRLVFRSRTFCDILLGRNRAHAITGPTSTTPLSLGKIWQSQQPEIPVQSLVFRQLWRDTDHFSTEDPARRFWCHRTRGYIVILSFDCQTLTECPTSHKSLCALPSNLFLDNPSIVTPVAVGRCETRGRLILGNRPVDKGWFVCLATLLSDCRLEFQKTRLVEEIVARFMGAHTIDRVLALTPQWLSLSYWRTTIPLRWILWPDFDHNQIRPIVASVRTTRYYTACFVRWSRNIRTIVCAWFGTPTQPPDMGLTKDPRALVPNAANLSSRSPLRGINSNGFIGLIVRFCTTYWSSRKSMEISMTTPPFQMALGEHRVRRDTTSIDIDSRNFLYCLILWTLMLFINRRTKPGPPFELGVPSSRRYRLHTWVYLPSHLEDDPVSKRDQLAHYFHISAQKLDQSIKRDLLLYLLPSTFPVRWSGQPQSSITELHPNSYDRHMVHVPPGPHTEKYHRMRHPNVLARVQGSPERRVNSSAVMFPTRIANTQNYYSMYRSQGIGIAKVSSPSLLSYQKPQSLLSGTTSRVKSRLRSGSAQFYPLIRSLTLTLKQRASTEVRCDHVRPVAQQQSKISSRMSGLPSHILKLRHPVAELIIARQGVRTPNDLLTLWELPSQYSTLLDAPGMGVQDRTSPMPLTDTHFLSSCSYEHYRPGMLGDRSRIPRIQRVTSIPLAYRNVLPRADAPRSMTGSCIHGIANALIAFLKWSVSISLGFRACALPQMDSRLHIEIGRWTLGISRYIIIVRIRGPAPKFCWFTNLFPDSRHVCLHEYGGCEDPHPYPRDSSLTPPYAKCFYFSNRFGRLLRRWELLLMQCYSQSSAKYRENAISSYKFMRTFRKSGNLLASWYTIRGAQHCCRASKLGPTPARLHTRVSDICPHAFNQLALSGASGYTSACSDLRLGVPLQEYPTCTPYLAQSQSTSPILWRPLPVIIRQVFRCGELNALPVEPTPLWFSRELKNTKFTLNRGCSFTRFTGPYNKTEMTWQVDPSAYESRLEGQLMIFRNWYDSSHTLWWLSVDERALPASVSNPRSLHTRRLEQAHAADHMSPELTVTNVGHSPHAHTTKTGSGNGSPLPNGFSARIASSLIADIGLCTYSVTSGRSVRNRYCVSAHSGAFAFRSHMIRWQGYPSTHGFIFSIPCRDRCNSEVLFLGRSGSSPSIAMRNQDRGQQVRVTTLGKKLPRYCPACIRSPITWLTCVLRYNFQRNFKLKNKTLLACTGSADSDQCQSSMCCSYGWKLTRVDTLDPAWWPSLSVLDSGFEASHVVHIVSVYPGDPPSSRCRVFIQTGTFTIIIPPMPPSYGRKTNKADQRHFDSLPKTKFTHYIACSRRSLRFSACAVVVLCLPCFAFVSPITSEYVLRKCCTRGLPPTIDYQMETSRWPIGWCRGAYVIMSPQQYCARATTGRSLNTPGMAKLNAPSYAHSQLTYCNECLLLFTAPAQLRSASLLSLFIGKDRSSSPTIQPYYLGLLSTLKRQAAYCGPCGRDAWEMFSLNSARRLQFPPCILSHTVISLIRYRALWVILRLRTSLMAGERDVESLPLSAPALTSAKLTFGPHPAELRSGPRYRMQYFAGYTAGNHRVDSVPSGNIVDGNAKFTNGRVLRLPQAPRFGPIHICWKLLAARAICQDDGFWISHSRGLPESLTRTYLTFSCHGISRLGHSEPMWKEIVRPGKLCSLLPGAWLSSLTIECSACCFPYAMEGPLQKDHGLSTEGAAKPYGYTSSERDCTSRSIEAELLEYRLGYHSRLSCRFKKLGVGAFSVRYGPNHFCSSLVRRIRDTLCGAGLRWPARTSLIRLGVAHRQSLWSSAAHPRPLIVGLTVNREVPDGYGYEHSLGPSSPQLASWLLKVSRPNWFDIWAATCCGLLRVCNSLGPLGGPNFKHNNVGLMTLWQVLYVVDSVRLHVLATATNSVVSYNPCLYNCNEAARIADITETKLVGKGPIPVLSTHRLRTWYHGRVTIAEDNSFLKRTGVPYFPDIHALLDTGSNRKHPLTTRTFSTTEYIAKHCMGPGRVTQS\n"
          ],
          "name": "stdout"
        }
      ]
    }
  ]
}