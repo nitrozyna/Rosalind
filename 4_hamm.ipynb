{
  "nbformat": 4,
  "nbformat_minor": 0,
  "metadata": {
    "colab": {
      "name": "4_hamm.ipynb",
      "provenance": [],
      "collapsed_sections": [],
      "include_colab_link": true
    },
    "kernelspec": {
      "name": "python3",
      "display_name": "Python 3"
    }
  },
  "cells": [
    {
      "cell_type": "markdown",
      "metadata": {
        "id": "view-in-github",
        "colab_type": "text"
      },
      "source": [
        "<a href=\"https://colab.research.google.com/github/nitrozyna/Rosalind/blob/master/4_hamm.ipynb\" target=\"_parent\"><img src=\"https://colab.research.google.com/assets/colab-badge.svg\" alt=\"Open In Colab\"/></a>"
      ]
    },
    {
      "cell_type": "markdown",
      "metadata": {
        "id": "DwNfoAoz3LLk",
        "colab_type": "text"
      },
      "source": [
        "Problem description:\n",
        "[Counting Point Mutations](http://rosalind.info/problems/hamm/\n",
        ")"
      ]
    },
    {
      "cell_type": "markdown",
      "metadata": {
        "id": "5P23M-hjs-Bv",
        "colab_type": "text"
      },
      "source": [
        "Given two **strings** s and t of equal length, the **Hamming distance** between s and t, denoted dH(s,t), is the number of corresponding symbols that differ in s and t.\n",
        "---\n",
        "\n",
        "### Given: Two DNA strings s and t of equal length (not exceeding 1 kbp).\n",
        "\n",
        "### Return: The Hamming distance dH(s,t).\n",
        "\n",
        "Sample Dataset\n",
        "\n",
        ">GAGCCTACTAACGGGAT CATCGTAATGACGGCCT\n",
        "\n",
        "Sample Output\n",
        "\n",
        ">7"
      ]
    },
    {
      "cell_type": "code",
      "metadata": {
        "id": "4cTZc5uEyZ4R",
        "colab_type": "code",
        "colab": {}
      },
      "source": [
        "#@title Importing some modules to make a connection between Colab and Drive to download the current dataset\n",
        "!pip install PyDrive\n",
        "from pydrive.auth import GoogleAuth\n",
        "from pydrive.drive import GoogleDrive\n",
        "from google.colab import auth\n",
        "from oauth2client.client import GoogleCredentials\n",
        "auth.authenticate_user()\n",
        "gauth = GoogleAuth()\n",
        "gauth.credentials = GoogleCredentials.get_application_default()\n",
        "drive = GoogleDrive(gauth)\n"
      ],
      "execution_count": 0,
      "outputs": []
    },
    {
      "cell_type": "code",
      "metadata": {
        "id": "lYLxokDiy6Qm",
        "colab_type": "code",
        "colab": {}
      },
      "source": [
        "#@title Loading test dataset\n",
        "fileID = \"1c-csUbLuauYGbwGM2ceGlRgUKy1wdDkH\" #@param {type:\"string\"}\n",
        "downloaded = drive.CreateFile({'id':fileID})\n",
        "downloaded.GetContentFile('rosalind_hamm.txt')  # replace the file name with your file"
      ],
      "execution_count": 0,
      "outputs": []
    },
    {
      "cell_type": "code",
      "metadata": {
        "id": "pDpv_IWnuadi",
        "colab_type": "code",
        "colab": {}
      },
      "source": [
        "#@title Function to calculate the Hamming distance\n",
        "def hammingDistance(dna_one,dna_two):\n",
        "    counter = 0\n",
        "    for a,b in zip(dna_one,dna_two):\n",
        "            if a != b:\n",
        "                counter += 1\n",
        "    return counter"
      ],
      "execution_count": 0,
      "outputs": []
    },
    {
      "cell_type": "code",
      "metadata": {
        "id": "CMCB_W77zaht",
        "colab_type": "code",
        "outputId": "13f45f0f-cf10-4d94-cfc4-9102a8ac8918",
        "colab": {
          "base_uri": "https://localhost:8080/",
          "height": 34
        }
      },
      "source": [
        "#@title Calculting the Hamming distance of two strands of DNA\n",
        "dna_string =  open(\"rosalind_hamm.txt\",\"r\")\n",
        "with open('rosalind_hamm.txt','r') as f:\n",
        "    dna = f.readlines()\n",
        "    hamming_distance = hammingDistance(dna[0],dna[1])\n",
        "print(hamming_distance)"
      ],
      "execution_count": 39,
      "outputs": [
        {
          "output_type": "stream",
          "text": [
            "457\n"
          ],
          "name": "stdout"
        }
      ]
    },
    {
      "cell_type": "code",
      "metadata": {
        "id": "cbKrzCOIar_1",
        "colab_type": "code",
        "colab": {}
      },
      "source": [
        ""
      ],
      "execution_count": 0,
      "outputs": []
    }
  ]
}